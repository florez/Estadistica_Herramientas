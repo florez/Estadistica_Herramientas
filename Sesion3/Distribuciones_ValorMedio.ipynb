{
 "cells": [
  {
   "cell_type": "code",
   "execution_count": 1,
   "id": "e0c7e9b6",
   "metadata": {},
   "outputs": [],
   "source": [
    "import numpy as np\n",
    "import pandas as pd\n",
    "import matplotlib.pyplot as plt"
   ]
  },
  {
   "cell_type": "code",
   "execution_count": 33,
   "id": "d8599c96",
   "metadata": {},
   "outputs": [],
   "source": [
    "path = '/home/alejandro/Dropbox/osb_enftransm-covid-19_27092021.csv'"
   ]
  },
  {
   "cell_type": "code",
   "execution_count": 3,
   "id": "0467193e",
   "metadata": {},
   "outputs": [],
   "source": [
    "def GetExperiments( N = 100000 ):\n",
    "    \n",
    "    freq = np.zeros( N )\n",
    "    \n",
    "    for i in range(int(N)):\n",
    "        \n",
    "        d1 = np.random.randint(1,7)\n",
    "        d2 = np.random.randint(1,7)\n",
    "        \n",
    "        freq[i] = d1+d2\n",
    "        \n",
    "    return freq"
   ]
  },
  {
   "cell_type": "code",
   "execution_count": 10,
   "id": "13500baa",
   "metadata": {},
   "outputs": [],
   "source": [
    "freq = GetExperiments(10000)"
   ]
  },
  {
   "cell_type": "markdown",
   "id": "af5f8c64",
   "metadata": {},
   "source": [
    "# Crear un histograma"
   ]
  },
  {
   "cell_type": "code",
   "execution_count": 19,
   "id": "163b78e5",
   "metadata": {},
   "outputs": [
    {
     "data": {
      "text/plain": [
       "(array([ 257.,  563.,  875., 1089., 1382., 1687., 1370., 1131.,  812.,\n",
       "         834.]),\n",
       " array([ 2.,  3.,  4.,  5.,  6.,  7.,  8.,  9., 10., 11., 12.]),\n",
       " <a list of 10 Patch objects>)"
      ]
     },
     "execution_count": 19,
     "metadata": {},
     "output_type": "execute_result"
    },
    {
     "data": {
      "image/png": "[encoded data removed]",
      "text/plain": [
       "<Figure size 432x288 with 1 Axes>"
      ]
     },
     "metadata": {
      "needs_background": "light"
     },
     "output_type": "display_data"
    }
   ],
   "source": [
    "plt.hist(freq)"
   ]
  },
  {
   "cell_type": "code",
   "execution_count": 31,
   "id": "73224cd0",
   "metadata": {},
   "outputs": [
    {
     "data": {
      "text/plain": [
       "array([ 2.,  3.,  4.,  5.,  6.,  7.,  8.,  9., 10., 11., 12., 13.])"
      ]
     },
     "execution_count": 31,
     "metadata": {},
     "output_type": "execute_result"
    }
   ],
   "source": [
    "x = np.linspace(2,13,12)\n",
    "h, bins = np.histogram(freq, bins=x)\n",
    "w = np.diff(bins)\n",
    "x"
   ]
  },
  {
   "cell_type": "code",
   "execution_count": 21,
   "id": "07d92570",
   "metadata": {},
   "outputs": [
    {
     "data": {
      "text/plain": [
       "<BarContainer object of 11 artists>"
      ]
     },
     "execution_count": 21,
     "metadata": {},
     "output_type": "execute_result"
    },
    {
     "data": {
      "image/png": "[encoded data removed]",
      "text/plain": [
       "<Figure size 432x288 with 1 Axes>"
      ]
     },
     "metadata": {
      "needs_background": "light"
     },
     "output_type": "display_data"
    }
   ],
   "source": [
    "plt.bar( bins[:-1], h, color='g', ec='k', width=w )"
   ]
  },
  {
   "cell_type": "code",
   "execution_count": 22,
   "id": "fdba9ba5",
   "metadata": {},
   "outputs": [
    {
     "name": "stdout",
     "output_type": "stream",
     "text": [
      "10000.0\n"
     ]
    }
   ],
   "source": [
    "# Area del histograma\n",
    "I = np.sum(w*h); print(I)"
   ]
  },
  {
   "cell_type": "code",
   "execution_count": 23,
   "id": "069e98bd",
   "metadata": {},
   "outputs": [
    {
     "name": "stdout",
     "output_type": "stream",
     "text": [
      "0.9999999999999999\n"
     ]
    }
   ],
   "source": [
    "hnorm = h/I\n",
    "print(np.sum(w*hnorm))"
   ]
  },
  {
   "cell_type": "code",
   "execution_count": 24,
   "id": "c002f88d",
   "metadata": {},
   "outputs": [
    {
     "data": {
      "text/plain": [
       "<BarContainer object of 11 artists>"
      ]
     },
     "execution_count": 24,
     "metadata": {},
     "output_type": "execute_result"
    },
    {
     "data": {
      "image/png": "[encoded data removed]",
      "text/plain": [
       "<Figure size 432x288 with 1 Axes>"
      ]
     },
     "metadata": {
      "needs_background": "light"
     },
     "output_type": "display_data"
    }
   ],
   "source": [
    "plt.bar( bins[:-1], hnorm, color='g', ec='k', width=w )"
   ]
  },
  {
   "cell_type": "code",
   "execution_count": 26,
   "id": "429d9777",
   "metadata": {},
   "outputs": [
    {
     "data": {
      "text/plain": [
       "array([0.0257, 0.0563, 0.0875, 0.1089, 0.1382, 0.1687, 0.137 , 0.1131,\n",
       "       0.0812, 0.0556, 0.0278])"
      ]
     },
     "execution_count": 26,
     "metadata": {},
     "output_type": "execute_result"
    }
   ],
   "source": [
    "hnorm"
   ]
  },
  {
   "cell_type": "code",
   "execution_count": 28,
   "id": "9e5a91ac",
   "metadata": {},
   "outputs": [
    {
     "data": {
      "text/plain": [
       "0.5852999999999999"
      ]
     },
     "execution_count": 28,
     "metadata": {},
     "output_type": "execute_result"
    }
   ],
   "source": [
    "# Probabilidad de obtener un numero menor o igual a 7\n",
    "np.sum(hnorm[:6]) "
   ]
  },
  {
   "cell_type": "markdown",
   "id": "25356fc1",
   "metadata": {},
   "source": [
    "$$ \\bar{X} = (x1+x2+x3)/3 $$ "
   ]
  },
  {
   "cell_type": "code",
   "execution_count": 30,
   "id": "5ab3687e",
   "metadata": {},
   "outputs": [
    {
     "name": "stdout",
     "output_type": "stream",
     "text": [
      "6.9959999999999996\n"
     ]
    }
   ],
   "source": [
    "u = np.sum(x[:11]*hnorm[:11]) \n",
    "print(u)"
   ]
  },
  {
   "cell_type": "code",
   "execution_count": 32,
   "id": "09aab7e1",
   "metadata": {},
   "outputs": [
    {
     "name": "stdout",
     "output_type": "stream",
     "text": [
      "6.9959999999999996\n"
     ]
    }
   ],
   "source": [
    "print(np.sum( hnorm*x[:-1] ))"
   ]
  },
  {
   "cell_type": "markdown",
   "id": "3f798737",
   "metadata": {},
   "source": [
    "# Cargar la base de datos"
   ]
  },
  {
   "cell_type": "code",
   "execution_count": 147,
   "id": "b63eefcc",
   "metadata": {},
   "outputs": [],
   "source": [
    "df = pd.read_csv(path,sep=';')"
   ]
  },
  {
   "cell_type": "code",
   "execution_count": 148,
   "id": "087b967d",
   "metadata": {},
   "outputs": [
    {
     "data": {
      "text/html": [
       "<div>\n",
       "<style scoped>\n",
       "    .dataframe tbody tr th:only-of-type {\n",
       "        vertical-align: middle;\n",
       "    }\n",
       "\n",
       "    .dataframe tbody tr th {\n",
       "        vertical-align: top;\n",
       "    }\n",
       "\n",
       "    .dataframe thead th {\n",
       "        text-align: right;\n",
       "    }\n",
       "</style>\n",
       "<table border=\"1\" class=\"dataframe\">\n",
       "  <thead>\n",
       "    <tr style=\"text-align: right;\">\n",
       "      <th></th>\n",
       "      <th>CASO</th>\n",
       "      <th>FECHA_DE_INICIO_DE_SINTOMAS</th>\n",
       "      <th>FECHA_DIAGNOSTICO</th>\n",
       "      <th>CIUDAD</th>\n",
       "      <th>LOCALIDAD_ASIS</th>\n",
       "      <th>EDAD</th>\n",
       "      <th>UNI_MED</th>\n",
       "      <th>SEXO</th>\n",
       "      <th>FUENTE_O_TIPO_DE_CONTAGIO</th>\n",
       "      <th>UBICACION</th>\n",
       "      <th>ESTADO</th>\n",
       "    </tr>\n",
       "  </thead>\n",
       "  <tbody>\n",
       "    <tr>\n",
       "      <th>0</th>\n",
       "      <td>1</td>\n",
       "      <td>2020-02-26</td>\n",
       "      <td>2020-03-06</td>\n",
       "      <td>Bogotá</td>\n",
       "      <td>Usaquén</td>\n",
       "      <td>19</td>\n",
       "      <td>1</td>\n",
       "      <td>F</td>\n",
       "      <td>Importado</td>\n",
       "      <td>Casa</td>\n",
       "      <td>Recuperado</td>\n",
       "    </tr>\n",
       "    <tr>\n",
       "      <th>1</th>\n",
       "      <td>2</td>\n",
       "      <td>2020-03-04</td>\n",
       "      <td>2020-03-10</td>\n",
       "      <td>Bogotá</td>\n",
       "      <td>Engativá</td>\n",
       "      <td>22</td>\n",
       "      <td>1</td>\n",
       "      <td>F</td>\n",
       "      <td>Importado</td>\n",
       "      <td>Casa</td>\n",
       "      <td>Recuperado</td>\n",
       "    </tr>\n",
       "    <tr>\n",
       "      <th>2</th>\n",
       "      <td>3</td>\n",
       "      <td>2020-03-07</td>\n",
       "      <td>2020-03-10</td>\n",
       "      <td>Bogotá</td>\n",
       "      <td>Engativá</td>\n",
       "      <td>28</td>\n",
       "      <td>1</td>\n",
       "      <td>F</td>\n",
       "      <td>Importado</td>\n",
       "      <td>Casa</td>\n",
       "      <td>Recuperado</td>\n",
       "    </tr>\n",
       "    <tr>\n",
       "      <th>3</th>\n",
       "      <td>4</td>\n",
       "      <td>2020-03-06</td>\n",
       "      <td>2020-03-12</td>\n",
       "      <td>Bogotá</td>\n",
       "      <td>Fontibón</td>\n",
       "      <td>36</td>\n",
       "      <td>1</td>\n",
       "      <td>F</td>\n",
       "      <td>Importado</td>\n",
       "      <td>Casa</td>\n",
       "      <td>Recuperado</td>\n",
       "    </tr>\n",
       "    <tr>\n",
       "      <th>4</th>\n",
       "      <td>5</td>\n",
       "      <td>2020-03-06</td>\n",
       "      <td>2020-03-12</td>\n",
       "      <td>Bogotá</td>\n",
       "      <td>Kennedy</td>\n",
       "      <td>42</td>\n",
       "      <td>1</td>\n",
       "      <td>F</td>\n",
       "      <td>Importado</td>\n",
       "      <td>Casa</td>\n",
       "      <td>Recuperado</td>\n",
       "    </tr>\n",
       "    <tr>\n",
       "      <th>...</th>\n",
       "      <td>...</td>\n",
       "      <td>...</td>\n",
       "      <td>...</td>\n",
       "      <td>...</td>\n",
       "      <td>...</td>\n",
       "      <td>...</td>\n",
       "      <td>...</td>\n",
       "      <td>...</td>\n",
       "      <td>...</td>\n",
       "      <td>...</td>\n",
       "      <td>...</td>\n",
       "    </tr>\n",
       "    <tr>\n",
       "      <th>1449284</th>\n",
       "      <td>1449285</td>\n",
       "      <td>NaN</td>\n",
       "      <td>2021-09-25</td>\n",
       "      <td>Sin dato</td>\n",
       "      <td>Sin dato</td>\n",
       "      <td>17</td>\n",
       "      <td>1</td>\n",
       "      <td>F</td>\n",
       "      <td>En estudio</td>\n",
       "      <td>Casa</td>\n",
       "      <td>Leve</td>\n",
       "    </tr>\n",
       "    <tr>\n",
       "      <th>1449285</th>\n",
       "      <td>1449286</td>\n",
       "      <td>NaN</td>\n",
       "      <td>2021-09-26</td>\n",
       "      <td>Sin dato</td>\n",
       "      <td>Sin dato</td>\n",
       "      <td>79</td>\n",
       "      <td>1</td>\n",
       "      <td>M</td>\n",
       "      <td>En estudio</td>\n",
       "      <td>Casa</td>\n",
       "      <td>Leve</td>\n",
       "    </tr>\n",
       "    <tr>\n",
       "      <th>1449286</th>\n",
       "      <td>1449287</td>\n",
       "      <td>NaN</td>\n",
       "      <td>2021-09-25</td>\n",
       "      <td>Sin dato</td>\n",
       "      <td>Sin dato</td>\n",
       "      <td>38</td>\n",
       "      <td>1</td>\n",
       "      <td>M</td>\n",
       "      <td>En estudio</td>\n",
       "      <td>Casa</td>\n",
       "      <td>Leve</td>\n",
       "    </tr>\n",
       "    <tr>\n",
       "      <th>1449287</th>\n",
       "      <td>1449288</td>\n",
       "      <td>2021-09-09</td>\n",
       "      <td>2021-09-24</td>\n",
       "      <td>Sin dato</td>\n",
       "      <td>Sin dato</td>\n",
       "      <td>21</td>\n",
       "      <td>1</td>\n",
       "      <td>F</td>\n",
       "      <td>En estudio</td>\n",
       "      <td>Casa</td>\n",
       "      <td>Recuperado</td>\n",
       "    </tr>\n",
       "    <tr>\n",
       "      <th>1449288</th>\n",
       "      <td>1449289</td>\n",
       "      <td>2021-09-10</td>\n",
       "      <td>2021-09-25</td>\n",
       "      <td>Sin dato</td>\n",
       "      <td>Sin dato</td>\n",
       "      <td>36</td>\n",
       "      <td>1</td>\n",
       "      <td>F</td>\n",
       "      <td>En estudio</td>\n",
       "      <td>Casa</td>\n",
       "      <td>Recuperado</td>\n",
       "    </tr>\n",
       "  </tbody>\n",
       "</table>\n",
       "<p>1449289 rows × 11 columns</p>\n",
       "</div>"
      ],
      "text/plain": [
       "            CASO FECHA_DE_INICIO_DE_SINTOMAS FECHA_DIAGNOSTICO    CIUDAD  \\\n",
       "0              1                  2020-02-26        2020-03-06    Bogotá   \n",
       "1              2                  2020-03-04        2020-03-10    Bogotá   \n",
       "2              3                  2020-03-07        2020-03-10    Bogotá   \n",
       "3              4                  2020-03-06        2020-03-12    Bogotá   \n",
       "4              5                  2020-03-06        2020-03-12    Bogotá   \n",
       "...          ...                         ...               ...       ...   \n",
       "1449284  1449285                         NaN        2021-09-25  Sin dato   \n",
       "1449285  1449286                         NaN        2021-09-26  Sin dato   \n",
       "1449286  1449287                         NaN        2021-09-25  Sin dato   \n",
       "1449287  1449288                  2021-09-09        2021-09-24  Sin dato   \n",
       "1449288  1449289                  2021-09-10        2021-09-25  Sin dato   \n",
       "\n",
       "        LOCALIDAD_ASIS  EDAD  UNI_MED SEXO FUENTE_O_TIPO_DE_CONTAGIO  \\\n",
       "0              Usaquén    19        1    F                 Importado   \n",
       "1             Engativá    22        1    F                 Importado   \n",
       "2             Engativá    28        1    F                 Importado   \n",
       "3             Fontibón    36        1    F                 Importado   \n",
       "4              Kennedy    42        1    F                 Importado   \n",
       "...                ...   ...      ...  ...                       ...   \n",
       "1449284       Sin dato    17        1    F                En estudio   \n",
       "1449285       Sin dato    79        1    M                En estudio   \n",
       "1449286       Sin dato    38        1    M                En estudio   \n",
       "1449287       Sin dato    21        1    F                En estudio   \n",
       "1449288       Sin dato    36        1    F                En estudio   \n",
       "\n",
       "        UBICACION      ESTADO  \n",
       "0            Casa  Recuperado  \n",
       "1            Casa  Recuperado  \n",
       "2            Casa  Recuperado  \n",
       "3            Casa  Recuperado  \n",
       "4            Casa  Recuperado  \n",
       "...           ...         ...  \n",
       "1449284      Casa        Leve  \n",
       "1449285      Casa        Leve  \n",
       "1449286      Casa        Leve  \n",
       "1449287      Casa  Recuperado  \n",
       "1449288      Casa  Recuperado  \n",
       "\n",
       "[1449289 rows x 11 columns]"
      ]
     },
     "execution_count": 148,
     "metadata": {},
     "output_type": "execute_result"
    }
   ],
   "source": [
    "df"
   ]
  },
  {
   "cell_type": "code",
   "execution_count": 149,
   "id": "eb2f57f5",
   "metadata": {},
   "outputs": [],
   "source": [
    "mask = (df['FECHA_DIAGNOSTICO'] >= '2020-08-01') & (df['FECHA_DIAGNOSTICO'] <= '2020-08-31') \n",
    "#mask"
   ]
  },
  {
   "cell_type": "code",
   "execution_count": 164,
   "id": "0ca998de",
   "metadata": {},
   "outputs": [
    {
     "name": "stdout",
     "output_type": "stream",
     "text": [
      "2020-1-01\n",
      "2020-2-01\n",
      "2020-3-01\n",
      "2020-4-01\n",
      "2020-5-01\n",
      "2020-6-01\n",
      "2020-7-01\n",
      "2020-8-01\n",
      "2020-9-01\n",
      "2020-10-01\n",
      "2020-11-01\n",
      "2020-12-01\n"
     ]
    }
   ],
   "source": [
    "for i in range(1,13):\n",
    "    year = '2020-{}-01'.format(i)\n",
    "    print(year)"
   ]
  },
  {
   "cell_type": "code",
   "execution_count": 150,
   "id": "d5eecefa",
   "metadata": {},
   "outputs": [],
   "source": [
    "def GetFilter(df,mask):\n",
    "    filtered_df = df.loc[mask]\n",
    "    return filtered_df"
   ]
  },
  {
   "cell_type": "code",
   "execution_count": 151,
   "id": "5bd1ed67",
   "metadata": {},
   "outputs": [],
   "source": [
    "df = GetFilter(df,mask)"
   ]
  },
  {
   "cell_type": "code",
   "execution_count": 152,
   "id": "1d987cbf",
   "metadata": {},
   "outputs": [
    {
     "name": "stdout",
     "output_type": "stream",
     "text": [
      "110001\n"
     ]
    }
   ],
   "source": [
    "N = len( df.iloc[:,0] )\n",
    "print(N)"
   ]
  },
  {
   "cell_type": "code",
   "execution_count": 153,
   "id": "522ccdd4",
   "metadata": {},
   "outputs": [],
   "source": [
    "#n = ['CIUDAD','EDAD']\n",
    "#df[n]"
   ]
  },
  {
   "cell_type": "code",
   "execution_count": 154,
   "id": "0767a8f8",
   "metadata": {},
   "outputs": [
    {
     "data": {
      "text/plain": [
       "Antonio Nariño        0.013509\n",
       "Barrios Unidos        0.022045\n",
       "Bosa                  0.090508\n",
       "Chapinero             0.021527\n",
       "Ciudad Bolívar        0.063063\n",
       "Engativá              0.131899\n",
       "Fontibón              0.045663\n",
       "Fuera de Bogotá       0.006836\n",
       "Kennedy               0.128053\n",
       "La Candelaria         0.004491\n",
       "Los Mártires          0.011745\n",
       "Puente Aranda         0.043491\n",
       "Rafael Uribe Uribe    0.046318\n",
       "San Cristóbal         0.048245\n",
       "Santa Fe              0.014418\n",
       "Sin dato              0.012364\n",
       "Suba                  0.151799\n",
       "Teusaquillo           0.017891\n",
       "Tunjuelito            0.023473\n",
       "Usaquén               0.064863\n",
       "Usme                  0.037800\n",
       "Name: LOCALIDAD_ASIS, dtype: float64"
      ]
     },
     "execution_count": 154,
     "metadata": {},
     "output_type": "execute_result"
    }
   ],
   "source": [
    "Counts_Localidad = pd.value_counts(df['LOCALIDAD_ASIS']).sort_index()\n",
    "Counts_Localidad\n",
    "Probabilities = Counts_Localidad/N\n",
    "Probabilities"
   ]
  },
  {
   "cell_type": "markdown",
   "id": "b23538fd",
   "metadata": {},
   "source": [
    "# Tablas de contingencia"
   ]
  },
  {
   "cell_type": "code",
   "execution_count": 155,
   "id": "d7362a87",
   "metadata": {},
   "outputs": [
    {
     "data": {
      "text/html": [
       "<div>\n",
       "<style scoped>\n",
       "    .dataframe tbody tr th:only-of-type {\n",
       "        vertical-align: middle;\n",
       "    }\n",
       "\n",
       "    .dataframe tbody tr th {\n",
       "        vertical-align: top;\n",
       "    }\n",
       "\n",
       "    .dataframe thead th {\n",
       "        text-align: right;\n",
       "    }\n",
       "</style>\n",
       "<table border=\"1\" class=\"dataframe\">\n",
       "  <thead>\n",
       "    <tr style=\"text-align: right;\">\n",
       "      <th>ESTADO</th>\n",
       "      <th>Fallecido</th>\n",
       "      <th>Fallecido (No aplica No causa Directa)</th>\n",
       "      <th>Recuperado</th>\n",
       "    </tr>\n",
       "    <tr>\n",
       "      <th>LOCALIDAD_ASIS</th>\n",
       "      <th></th>\n",
       "      <th></th>\n",
       "      <th></th>\n",
       "    </tr>\n",
       "  </thead>\n",
       "  <tbody>\n",
       "    <tr>\n",
       "      <th>Antonio Nariño</th>\n",
       "      <td>33</td>\n",
       "      <td>13</td>\n",
       "      <td>1440</td>\n",
       "    </tr>\n",
       "    <tr>\n",
       "      <th>Barrios Unidos</th>\n",
       "      <td>60</td>\n",
       "      <td>16</td>\n",
       "      <td>2349</td>\n",
       "    </tr>\n",
       "    <tr>\n",
       "      <th>Bosa</th>\n",
       "      <td>197</td>\n",
       "      <td>33</td>\n",
       "      <td>9726</td>\n",
       "    </tr>\n",
       "    <tr>\n",
       "      <th>Chapinero</th>\n",
       "      <td>52</td>\n",
       "      <td>10</td>\n",
       "      <td>2306</td>\n",
       "    </tr>\n",
       "    <tr>\n",
       "      <th>Ciudad Bolívar</th>\n",
       "      <td>146</td>\n",
       "      <td>31</td>\n",
       "      <td>6760</td>\n",
       "    </tr>\n",
       "    <tr>\n",
       "      <th>Engativá</th>\n",
       "      <td>324</td>\n",
       "      <td>92</td>\n",
       "      <td>14093</td>\n",
       "    </tr>\n",
       "    <tr>\n",
       "      <th>Fontibón</th>\n",
       "      <td>110</td>\n",
       "      <td>36</td>\n",
       "      <td>4877</td>\n",
       "    </tr>\n",
       "    <tr>\n",
       "      <th>Fuera de Bogotá</th>\n",
       "      <td>25</td>\n",
       "      <td>10</td>\n",
       "      <td>717</td>\n",
       "    </tr>\n",
       "    <tr>\n",
       "      <th>Kennedy</th>\n",
       "      <td>332</td>\n",
       "      <td>61</td>\n",
       "      <td>13693</td>\n",
       "    </tr>\n",
       "    <tr>\n",
       "      <th>La Candelaria</th>\n",
       "      <td>8</td>\n",
       "      <td>6</td>\n",
       "      <td>480</td>\n",
       "    </tr>\n",
       "    <tr>\n",
       "      <th>Los Mártires</th>\n",
       "      <td>41</td>\n",
       "      <td>15</td>\n",
       "      <td>1236</td>\n",
       "    </tr>\n",
       "    <tr>\n",
       "      <th>Puente Aranda</th>\n",
       "      <td>120</td>\n",
       "      <td>30</td>\n",
       "      <td>4634</td>\n",
       "    </tr>\n",
       "    <tr>\n",
       "      <th>Rafael Uribe Uribe</th>\n",
       "      <td>150</td>\n",
       "      <td>26</td>\n",
       "      <td>4919</td>\n",
       "    </tr>\n",
       "    <tr>\n",
       "      <th>San Cristóbal</th>\n",
       "      <td>137</td>\n",
       "      <td>35</td>\n",
       "      <td>5135</td>\n",
       "    </tr>\n",
       "    <tr>\n",
       "      <th>Santa Fe</th>\n",
       "      <td>46</td>\n",
       "      <td>14</td>\n",
       "      <td>1526</td>\n",
       "    </tr>\n",
       "    <tr>\n",
       "      <th>Sin dato</th>\n",
       "      <td>3</td>\n",
       "      <td>2</td>\n",
       "      <td>1355</td>\n",
       "    </tr>\n",
       "    <tr>\n",
       "      <th>Suba</th>\n",
       "      <td>324</td>\n",
       "      <td>77</td>\n",
       "      <td>16297</td>\n",
       "    </tr>\n",
       "    <tr>\n",
       "      <th>Teusaquillo</th>\n",
       "      <td>47</td>\n",
       "      <td>16</td>\n",
       "      <td>1905</td>\n",
       "    </tr>\n",
       "    <tr>\n",
       "      <th>Tunjuelito</th>\n",
       "      <td>71</td>\n",
       "      <td>14</td>\n",
       "      <td>2497</td>\n",
       "    </tr>\n",
       "    <tr>\n",
       "      <th>Usaquén</th>\n",
       "      <td>131</td>\n",
       "      <td>36</td>\n",
       "      <td>6968</td>\n",
       "    </tr>\n",
       "    <tr>\n",
       "      <th>Usme</th>\n",
       "      <td>103</td>\n",
       "      <td>23</td>\n",
       "      <td>4032</td>\n",
       "    </tr>\n",
       "  </tbody>\n",
       "</table>\n",
       "</div>"
      ],
      "text/plain": [
       "ESTADO              Fallecido  Fallecido (No aplica No causa Directa)  \\\n",
       "LOCALIDAD_ASIS                                                          \n",
       "Antonio Nariño             33                                      13   \n",
       "Barrios Unidos             60                                      16   \n",
       "Bosa                      197                                      33   \n",
       "Chapinero                  52                                      10   \n",
       "Ciudad Bolívar            146                                      31   \n",
       "Engativá                  324                                      92   \n",
       "Fontibón                  110                                      36   \n",
       "Fuera de Bogotá            25                                      10   \n",
       "Kennedy                   332                                      61   \n",
       "La Candelaria               8                                       6   \n",
       "Los Mártires               41                                      15   \n",
       "Puente Aranda             120                                      30   \n",
       "Rafael Uribe Uribe        150                                      26   \n",
       "San Cristóbal             137                                      35   \n",
       "Santa Fe                   46                                      14   \n",
       "Sin dato                    3                                       2   \n",
       "Suba                      324                                      77   \n",
       "Teusaquillo                47                                      16   \n",
       "Tunjuelito                 71                                      14   \n",
       "Usaquén                   131                                      36   \n",
       "Usme                      103                                      23   \n",
       "\n",
       "ESTADO              Recuperado  \n",
       "LOCALIDAD_ASIS                  \n",
       "Antonio Nariño            1440  \n",
       "Barrios Unidos            2349  \n",
       "Bosa                      9726  \n",
       "Chapinero                 2306  \n",
       "Ciudad Bolívar            6760  \n",
       "Engativá                 14093  \n",
       "Fontibón                  4877  \n",
       "Fuera de Bogotá            717  \n",
       "Kennedy                  13693  \n",
       "La Candelaria              480  \n",
       "Los Mártires              1236  \n",
       "Puente Aranda             4634  \n",
       "Rafael Uribe Uribe        4919  \n",
       "San Cristóbal             5135  \n",
       "Santa Fe                  1526  \n",
       "Sin dato                  1355  \n",
       "Suba                     16297  \n",
       "Teusaquillo               1905  \n",
       "Tunjuelito                2497  \n",
       "Usaquén                   6968  \n",
       "Usme                      4032  "
      ]
     },
     "execution_count": 155,
     "metadata": {},
     "output_type": "execute_result"
    }
   ],
   "source": [
    "CrossTab = pd.crosstab( index = df['LOCALIDAD_ASIS'], columns = df['ESTADO'] )\n",
    "CrossTab"
   ]
  },
  {
   "cell_type": "code",
   "execution_count": 156,
   "id": "3b5a42fb",
   "metadata": {},
   "outputs": [],
   "source": [
    "Fallecidos_Localidad = CrossTab.Fallecido"
   ]
  },
  {
   "cell_type": "code",
   "execution_count": 157,
   "id": "03121f9c",
   "metadata": {},
   "outputs": [],
   "source": [
    "#CrossTab.iloc[:,0]"
   ]
  },
  {
   "cell_type": "code",
   "execution_count": 158,
   "id": "c65c4c49",
   "metadata": {},
   "outputs": [
    {
     "data": {
      "text/plain": [
       "LOCALIDAD_ASIS\n",
       "Antonio Nariño         33\n",
       "Barrios Unidos         60\n",
       "Bosa                  197\n",
       "Chapinero              52\n",
       "Ciudad Bolívar        146\n",
       "Engativá              324\n",
       "Fontibón              110\n",
       "Fuera de Bogotá        25\n",
       "Kennedy               332\n",
       "La Candelaria           8\n",
       "Los Mártires           41\n",
       "Puente Aranda         120\n",
       "Rafael Uribe Uribe    150\n",
       "San Cristóbal         137\n",
       "Santa Fe               46\n",
       "Sin dato                3\n",
       "Suba                  324\n",
       "Teusaquillo            47\n",
       "Tunjuelito             71\n",
       "Usaquén               131\n",
       "Usme                  103\n",
       "Name: Fallecido, dtype: int64"
      ]
     },
     "execution_count": 158,
     "metadata": {},
     "output_type": "execute_result"
    }
   ],
   "source": [
    "Fallecidos_Localidad"
   ]
  },
  {
   "cell_type": "code",
   "execution_count": 159,
   "id": "5e4e65b4",
   "metadata": {},
   "outputs": [
    {
     "data": {
      "text/plain": [
       "204.4425414314415"
      ]
     },
     "execution_count": 159,
     "metadata": {},
     "output_type": "execute_result"
    }
   ],
   "source": [
    "mean = np.sum( Fallecidos_Localidad*Probabilities )\n",
    "mean"
   ]
  },
  {
   "cell_type": "code",
   "execution_count": 160,
   "id": "52b4d603",
   "metadata": {},
   "outputs": [],
   "source": [
    "df_fallecidos = df[ df['ESTADO'] == 'Fallecido' ]\n",
    "CrossTab_f = pd.crosstab( index = df_fallecidos['LOCALIDAD_ASIS'], columns = df_fallecidos['ESTADO'] )"
   ]
  },
  {
   "cell_type": "code",
   "execution_count": 161,
   "id": "6d42c703",
   "metadata": {},
   "outputs": [
    {
     "data": {
      "text/plain": [
       "<matplotlib.legend.Legend at 0x7ffb4e444bb0>"
      ]
     },
     "execution_count": 161,
     "metadata": {},
     "output_type": "execute_result"
    },
    {
     "data": {
      "text/plain": [
       "<Figure size 1080x360 with 0 Axes>"
      ]
     },
     "metadata": {},
     "output_type": "display_data"
    },
    {
     "data": {
      "image/png": "[encoded data removed]",
      "text/plain": [
       "<Figure size 1080x1080 with 1 Axes>"
      ]
     },
     "metadata": {
      "needs_background": "light"
     },
     "output_type": "display_data"
    }
   ],
   "source": [
    "fig = plt.figure(figsize=(15,5))\n",
    "ax = CrossTab_f.plot(kind='barh',stacked=False, width=0.7, figsize=(15,15))\n",
    "ax = ax.axvline( x = mean, color='r', label='Valor - Medio por localidad' )\n",
    "plt.legend(loc=0)"
   ]
  },
  {
   "cell_type": "code",
   "execution_count": 142,
   "id": "b60449f6",
   "metadata": {},
   "outputs": [
    {
     "data": {
      "text/plain": [
       "[<matplotlib.lines.Line2D at 0x7ffb4e9f1400>]"
      ]
     },
     "execution_count": 142,
     "metadata": {},
     "output_type": "execute_result"
    },
    {
     "data": {
      "image/png": "[encoded data removed]",
      "text/plain": [
       "<Figure size 432x288 with 1 Axes>"
      ]
     },
     "metadata": {
      "needs_background": "light"
     },
     "output_type": "display_data"
    }
   ],
   "source": [
    "EDAD = pd.crosstab( index = df['EDAD'], columns = df['ESTADO'])\n",
    "plt.plot(EDAD.Fallecido)"
   ]
  },
  {
   "cell_type": "code",
   "execution_count": 143,
   "id": "3281909e",
   "metadata": {},
   "outputs": [
    {
     "data": {
      "text/plain": [
       "[<matplotlib.lines.Line2D at 0x7ffb4ea8fc10>]"
      ]
     },
     "execution_count": 143,
     "metadata": {},
     "output_type": "execute_result"
    },
    {
     "data": {
      "image/png": "[encoded data removed]",
      "text/plain": [
       "<Figure size 432x288 with 1 Axes>"
      ]
     },
     "metadata": {
      "needs_background": "light"
     },
     "output_type": "display_data"
    }
   ],
   "source": [
    "plt.plot(EDAD.Recuperado)"
   ]
  },
  {
   "cell_type": "code",
   "execution_count": null,
   "id": "190c1ecc",
   "metadata": {},
   "outputs": [],
   "source": []
  },
  {
   "cell_type": "code",
   "execution_count": null,
   "id": "46909e25",
   "metadata": {},
   "outputs": [],
   "source": []
  }
 ],
 "metadata": {
  "kernelspec": {
   "display_name": "Python 3",
   "language": "python",
   "name": "python3"
  },
  "language_info": {
   "codemirror_mode": {
    "name": "ipython",
    "version": 3
   },
   "file_extension": ".py",
   "mimetype": "text/x-python",
   "name": "python",
   "nbconvert_exporter": "python",
   "pygments_lexer": "ipython3",
   "version": "3.8.2"
  }
 },
 "nbformat": 4,
 "nbformat_minor": 5
}
