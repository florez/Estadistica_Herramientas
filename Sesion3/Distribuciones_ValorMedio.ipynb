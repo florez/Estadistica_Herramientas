{
 "cells": [
  {
   "cell_type": "code",
   "execution_count": 1,
   "id": "d2388923",
   "metadata": {},
   "outputs": [],
   "source": [
    "import numpy as np\n",
    "import pandas as pd\n",
    "import matplotlib.pyplot as plt"
   ]
  },
  {
   "cell_type": "code",
   "execution_count": 2,
   "id": "f88bdd06",
   "metadata": {},
   "outputs": [],
   "source": [
    "path = '/home/alejandro/Dropbox/osb_enftransm-covid-19_27092021.csv'"
   ]
  },
  {
   "cell_type": "code",
   "execution_count": 3,
   "id": "e61d6ab7",
   "metadata": {},
   "outputs": [],
   "source": [
    "def GetExperiments( N = 100000 ):\n",
    "    \n",
    "    freq = np.zeros( N )\n",
    "    \n",
    "    for i in range(int(N)):\n",
    "        \n",
    "        d1 = np.random.randint(1,7)\n",
    "        d2 = np.random.randint(1,7)\n",
    "        \n",
    "        freq[i] = d1+d2\n",
    "        \n",
    "    return freq"
   ]
  },
  {
   "cell_type": "code",
   "execution_count": 10,
   "id": "e528fe63",
   "metadata": {},
   "outputs": [],
   "source": [
    "freq = GetExperiments(10000)"
   ]
  },
  {
   "cell_type": "markdown",
   "id": "c62802e2",
   "metadata": {},
   "source": [
    "# Crear un histograma"
   ]
  },
  {
   "cell_type": "code",
   "execution_count": 19,
   "id": "90ccb33f",
   "metadata": {},
   "outputs": [
    {
     "data": {
      "text/plain": [
       "(array([ 257.,  563.,  875., 1089., 1382., 1687., 1370., 1131.,  812.,\n",
       "         834.]),\n",
       " array([ 2.,  3.,  4.,  5.,  6.,  7.,  8.,  9., 10., 11., 12.]),\n",
       " <a list of 10 Patch objects>)"
      ]
     },
     "execution_count": 19,
     "metadata": {},
     "output_type": "execute_result"
    },
    {
     "data": {
      "image/png": "[encoded data removed]",
      "text/plain": [
       "<Figure size 432x288 with 1 Axes>"
      ]
     },
     "metadata": {
      "needs_background": "light"
     },
     "output_type": "display_data"
    }
   ],
   "source": [
    "plt.hist(freq)"
   ]
  },
  {
   "cell_type": "code",
   "execution_count": 16,
   "id": "f9f36822",
   "metadata": {},
   "outputs": [
    {
     "data": {
      "text/plain": [
       "array([1., 1., 1., 1., 1., 1., 1., 1., 1., 1., 1.])"
      ]
     },
     "execution_count": 16,
     "metadata": {},
     "output_type": "execute_result"
    }
   ],
   "source": [
    "x = np.linspace(2,13,12)\n",
    "h, bins = np.histogram(freq, bins=x)\n",
    "w = np.diff(bins)\n",
    "w"
   ]
  },
  {
   "cell_type": "code",
   "execution_count": 21,
   "id": "b8d3de27",
   "metadata": {},
   "outputs": [
    {
     "data": {
      "text/plain": [
       "<BarContainer object of 11 artists>"
      ]
     },
     "execution_count": 21,
     "metadata": {},
     "output_type": "execute_result"
    },
    {
     "data": {
      "image/png": "[encoded data removed]",
      "text/plain": [
       "<Figure size 432x288 with 1 Axes>"
      ]
     },
     "metadata": {
      "needs_background": "light"
     },
     "output_type": "display_data"
    }
   ],
   "source": [
    "plt.bar( bins[:-1], h, color='g', ec='k', width=w )"
   ]
  },
  {
   "cell_type": "code",
   "execution_count": 22,
   "id": "9d14e82a",
   "metadata": {},
   "outputs": [
    {
     "name": "stdout",
     "output_type": "stream",
     "text": [
      "10000.0\n"
     ]
    }
   ],
   "source": [
    "# Area del histograma\n",
    "I = np.sum(w*h); print(I)"
   ]
  },
  {
   "cell_type": "code",
   "execution_count": 23,
   "id": "69fe912b",
   "metadata": {},
   "outputs": [
    {
     "name": "stdout",
     "output_type": "stream",
     "text": [
      "0.9999999999999999\n"
     ]
    }
   ],
   "source": [
    "hnorm = h/I\n",
    "print(np.sum(w*hnorm))"
   ]
  },
  {
   "cell_type": "code",
   "execution_count": 24,
   "id": "094673ae",
   "metadata": {},
   "outputs": [
    {
     "data": {
      "text/plain": [
       "<BarContainer object of 11 artists>"
      ]
     },
     "execution_count": 24,
     "metadata": {},
     "output_type": "execute_result"
    },
    {
     "data": {
      "image/png": "[encoded data removed]",
      "text/plain": [
       "<Figure size 432x288 with 1 Axes>"
      ]
     },
     "metadata": {
      "needs_background": "light"
     },
     "output_type": "display_data"
    }
   ],
   "source": [
    "plt.bar( bins[:-1], hnorm, color='g', ec='k', width=w )"
   ]
  },
  {
   "cell_type": "code",
   "execution_count": 26,
   "id": "897f3978",
   "metadata": {},
   "outputs": [
    {
     "data": {
      "text/plain": [
       "array([0.0257, 0.0563, 0.0875, 0.1089, 0.1382, 0.1687, 0.137 , 0.1131,\n",
       "       0.0812, 0.0556, 0.0278])"
      ]
     },
     "execution_count": 26,
     "metadata": {},
     "output_type": "execute_result"
    }
   ],
   "source": [
    "hnorm"
   ]
  },
  {
   "cell_type": "code",
   "execution_count": 27,
   "id": "f721c75a",
   "metadata": {},
   "outputs": [
    {
     "data": {
      "text/plain": [
       "0.16666666666666666"
      ]
     },
     "execution_count": 27,
     "metadata": {},
     "output_type": "execute_result"
    }
   ],
   "source": [
    "1/6"
   ]
  },
  {
   "cell_type": "code",
   "execution_count": null,
   "id": "e5c5513f",
   "metadata": {},
   "outputs": [],
   "source": []
  }
 ],
 "metadata": {
  "kernelspec": {
   "display_name": "Python 3",
   "language": "python",
   "name": "python3"
  },
  "language_info": {
   "codemirror_mode": {
    "name": "ipython",
    "version": 3
   },
   "file_extension": ".py",
   "mimetype": "text/x-python",
   "name": "python",
   "nbconvert_exporter": "python",
   "pygments_lexer": "ipython3",
   "version": "3.8.2"
  }
 },
 "nbformat": 4,
 "nbformat_minor": 5
}
