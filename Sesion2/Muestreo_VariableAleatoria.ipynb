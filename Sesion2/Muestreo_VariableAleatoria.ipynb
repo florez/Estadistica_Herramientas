{
 "cells": [
  {
   "cell_type": "code",
   "execution_count": 26,
   "id": "11cab621",
   "metadata": {},
   "outputs": [],
   "source": [
    "import numpy as np\n",
    "import matplotlib.pyplot as plt\n",
    "import pandas as pd"
   ]
  },
  {
   "cell_type": "markdown",
   "id": "6299ef72",
   "metadata": {},
   "source": [
    "# Poblacion: El conjunto completo.\n",
    "# Muestra: El sub-conjunto, incompleto."
   ]
  },
  {
   "cell_type": "markdown",
   "id": "43434d20",
   "metadata": {},
   "source": [
    "# Tenemos dos cajas: 1,2"
   ]
  },
  {
   "cell_type": "code",
   "execution_count": 30,
   "id": "7862fb22",
   "metadata": {},
   "outputs": [],
   "source": [
    "data = np.array([1,2,2,1,1,1,1,2,2,1,1,2,2,2,1,2,2,2,1,2])"
   ]
  },
  {
   "cell_type": "code",
   "execution_count": 31,
   "id": "0d88d87b",
   "metadata": {},
   "outputs": [
    {
     "data": {
      "text/plain": [
       "20"
      ]
     },
     "execution_count": 31,
     "metadata": {},
     "output_type": "execute_result"
    }
   ],
   "source": [
    "len(data)"
   ]
  },
  {
   "cell_type": "code",
   "execution_count": 32,
   "id": "5794a7d5",
   "metadata": {},
   "outputs": [
    {
     "data": {
      "text/plain": [
       "(array([ 9., 11.]), array([1. , 1.5, 2. ]), <a list of 2 Patch objects>)"
      ]
     },
     "execution_count": 32,
     "metadata": {},
     "output_type": "execute_result"
    },
    {
     "data": {
      "image/png": "[encoded data removed]",
      "text/plain": [
       "<Figure size 432x288 with 1 Axes>"
      ]
     },
     "metadata": {
      "needs_background": "light"
     },
     "output_type": "display_data"
    }
   ],
   "source": [
    "# bins = caja\n",
    "plt.hist(data, bins=2, ec='k')"
   ]
  },
  {
   "cell_type": "markdown",
   "id": "bc80107c",
   "metadata": {},
   "source": [
    "# Frecuencia"
   ]
  },
  {
   "cell_type": "code",
   "execution_count": 35,
   "id": "9a52a6df",
   "metadata": {},
   "outputs": [
    {
     "data": {
      "text/html": [
       "<div>\n",
       "<style scoped>\n",
       "    .dataframe tbody tr th:only-of-type {\n",
       "        vertical-align: middle;\n",
       "    }\n",
       "\n",
       "    .dataframe tbody tr th {\n",
       "        vertical-align: top;\n",
       "    }\n",
       "\n",
       "    .dataframe thead th {\n",
       "        text-align: right;\n",
       "    }\n",
       "</style>\n",
       "<table border=\"1\" class=\"dataframe\">\n",
       "  <thead>\n",
       "    <tr style=\"text-align: right;\">\n",
       "      <th></th>\n",
       "      <th>Salon</th>\n",
       "      <th>Asistentes</th>\n",
       "    </tr>\n",
       "  </thead>\n",
       "  <tbody>\n",
       "    <tr>\n",
       "      <th>0</th>\n",
       "      <td>Salon_A</td>\n",
       "      <td>40</td>\n",
       "    </tr>\n",
       "    <tr>\n",
       "      <th>1</th>\n",
       "      <td>Salon_B</td>\n",
       "      <td>100</td>\n",
       "    </tr>\n",
       "    <tr>\n",
       "      <th>2</th>\n",
       "      <td>Salon_C</td>\n",
       "      <td>95</td>\n",
       "    </tr>\n",
       "    <tr>\n",
       "      <th>3</th>\n",
       "      <td>Salon_D</td>\n",
       "      <td>70</td>\n",
       "    </tr>\n",
       "    <tr>\n",
       "      <th>4</th>\n",
       "      <td>Salon_E</td>\n",
       "      <td>510</td>\n",
       "    </tr>\n",
       "    <tr>\n",
       "      <th>5</th>\n",
       "      <td>Salon_F</td>\n",
       "      <td>200</td>\n",
       "    </tr>\n",
       "    <tr>\n",
       "      <th>6</th>\n",
       "      <td>Salon_G</td>\n",
       "      <td>150</td>\n",
       "    </tr>\n",
       "    <tr>\n",
       "      <th>7</th>\n",
       "      <td>Salon_H</td>\n",
       "      <td>125</td>\n",
       "    </tr>\n",
       "    <tr>\n",
       "      <th>8</th>\n",
       "      <td>Salon_I</td>\n",
       "      <td>310</td>\n",
       "    </tr>\n",
       "    <tr>\n",
       "      <th>9</th>\n",
       "      <td>Salon_J</td>\n",
       "      <td>400</td>\n",
       "    </tr>\n",
       "  </tbody>\n",
       "</table>\n",
       "</div>"
      ],
      "text/plain": [
       "     Salon  Asistentes\n",
       "0  Salon_A          40\n",
       "1  Salon_B         100\n",
       "2  Salon_C          95\n",
       "3  Salon_D          70\n",
       "4  Salon_E         510\n",
       "5  Salon_F         200\n",
       "6  Salon_G         150\n",
       "7  Salon_H         125\n",
       "8  Salon_I         310\n",
       "9  Salon_J         400"
      ]
     },
     "execution_count": 35,
     "metadata": {},
     "output_type": "execute_result"
    }
   ],
   "source": [
    "df = pd.read_csv('../Data/Sesion2/DatosEstratificados.csv')\n",
    "df"
   ]
  },
  {
   "cell_type": "code",
   "execution_count": 37,
   "id": "a7d243f6",
   "metadata": {},
   "outputs": [
    {
     "name": "stdout",
     "output_type": "stream",
     "text": [
      "2000\n"
     ]
    }
   ],
   "source": [
    "Total = np.sum( df.Asistentes )\n",
    "print(Total)"
   ]
  },
  {
   "cell_type": "code",
   "execution_count": 42,
   "id": "bf4a8ecf",
   "metadata": {},
   "outputs": [],
   "source": [
    "asistentes = np.array(df.Asistentes)"
   ]
  },
  {
   "cell_type": "code",
   "execution_count": 48,
   "id": "11e665b4",
   "metadata": {},
   "outputs": [],
   "source": [
    "#sum_ = 0.\n",
    "#for i in range(len(asistentes)):\n",
    "#    print(i)\n",
    "#    sum_ += asistentes[i]\n",
    "#print(sum_)"
   ]
  },
  {
   "cell_type": "code",
   "execution_count": 50,
   "id": "b8a93edb",
   "metadata": {},
   "outputs": [
    {
     "data": {
      "text/html": [
       "<div>\n",
       "<style scoped>\n",
       "    .dataframe tbody tr th:only-of-type {\n",
       "        vertical-align: middle;\n",
       "    }\n",
       "\n",
       "    .dataframe tbody tr th {\n",
       "        vertical-align: top;\n",
       "    }\n",
       "\n",
       "    .dataframe thead th {\n",
       "        text-align: right;\n",
       "    }\n",
       "</style>\n",
       "<table border=\"1\" class=\"dataframe\">\n",
       "  <thead>\n",
       "    <tr style=\"text-align: right;\">\n",
       "      <th></th>\n",
       "      <th>Salon</th>\n",
       "      <th>Asistentes</th>\n",
       "      <th>Porcentaje</th>\n",
       "    </tr>\n",
       "  </thead>\n",
       "  <tbody>\n",
       "    <tr>\n",
       "      <th>0</th>\n",
       "      <td>Salon_A</td>\n",
       "      <td>40</td>\n",
       "      <td>0.0200</td>\n",
       "    </tr>\n",
       "    <tr>\n",
       "      <th>1</th>\n",
       "      <td>Salon_B</td>\n",
       "      <td>100</td>\n",
       "      <td>0.0500</td>\n",
       "    </tr>\n",
       "    <tr>\n",
       "      <th>2</th>\n",
       "      <td>Salon_C</td>\n",
       "      <td>95</td>\n",
       "      <td>0.0475</td>\n",
       "    </tr>\n",
       "    <tr>\n",
       "      <th>3</th>\n",
       "      <td>Salon_D</td>\n",
       "      <td>70</td>\n",
       "      <td>0.0350</td>\n",
       "    </tr>\n",
       "    <tr>\n",
       "      <th>4</th>\n",
       "      <td>Salon_E</td>\n",
       "      <td>510</td>\n",
       "      <td>0.2550</td>\n",
       "    </tr>\n",
       "    <tr>\n",
       "      <th>5</th>\n",
       "      <td>Salon_F</td>\n",
       "      <td>200</td>\n",
       "      <td>0.1000</td>\n",
       "    </tr>\n",
       "    <tr>\n",
       "      <th>6</th>\n",
       "      <td>Salon_G</td>\n",
       "      <td>150</td>\n",
       "      <td>0.0750</td>\n",
       "    </tr>\n",
       "    <tr>\n",
       "      <th>7</th>\n",
       "      <td>Salon_H</td>\n",
       "      <td>125</td>\n",
       "      <td>0.0625</td>\n",
       "    </tr>\n",
       "    <tr>\n",
       "      <th>8</th>\n",
       "      <td>Salon_I</td>\n",
       "      <td>310</td>\n",
       "      <td>0.1550</td>\n",
       "    </tr>\n",
       "    <tr>\n",
       "      <th>9</th>\n",
       "      <td>Salon_J</td>\n",
       "      <td>400</td>\n",
       "      <td>0.2000</td>\n",
       "    </tr>\n",
       "  </tbody>\n",
       "</table>\n",
       "</div>"
      ],
      "text/plain": [
       "     Salon  Asistentes  Porcentaje\n",
       "0  Salon_A          40      0.0200\n",
       "1  Salon_B         100      0.0500\n",
       "2  Salon_C          95      0.0475\n",
       "3  Salon_D          70      0.0350\n",
       "4  Salon_E         510      0.2550\n",
       "5  Salon_F         200      0.1000\n",
       "6  Salon_G         150      0.0750\n",
       "7  Salon_H         125      0.0625\n",
       "8  Salon_I         310      0.1550\n",
       "9  Salon_J         400      0.2000"
      ]
     },
     "execution_count": 50,
     "metadata": {},
     "output_type": "execute_result"
    }
   ],
   "source": [
    "df = df.assign( Porcentaje = df.Asistentes/Total )\n",
    "df"
   ]
  },
  {
   "cell_type": "code",
   "execution_count": 54,
   "id": "75c9c84e",
   "metadata": {},
   "outputs": [],
   "source": [
    "n = 200\n",
    "# Agregar una columna con el numero de encuestados en cada salon, es decir, n*Porcentaje"
   ]
  },
  {
   "cell_type": "code",
   "execution_count": 55,
   "id": "aa93421d",
   "metadata": {},
   "outputs": [],
   "source": [
    "df = df.assign( Encuestados = df.Porcentaje*n )"
   ]
  },
  {
   "cell_type": "code",
   "execution_count": 56,
   "id": "8cc0fa8d",
   "metadata": {},
   "outputs": [
    {
     "data": {
      "text/html": [
       "<div>\n",
       "<style scoped>\n",
       "    .dataframe tbody tr th:only-of-type {\n",
       "        vertical-align: middle;\n",
       "    }\n",
       "\n",
       "    .dataframe tbody tr th {\n",
       "        vertical-align: top;\n",
       "    }\n",
       "\n",
       "    .dataframe thead th {\n",
       "        text-align: right;\n",
       "    }\n",
       "</style>\n",
       "<table border=\"1\" class=\"dataframe\">\n",
       "  <thead>\n",
       "    <tr style=\"text-align: right;\">\n",
       "      <th></th>\n",
       "      <th>Salon</th>\n",
       "      <th>Asistentes</th>\n",
       "      <th>Porcentaje</th>\n",
       "      <th>Encuestados</th>\n",
       "    </tr>\n",
       "  </thead>\n",
       "  <tbody>\n",
       "    <tr>\n",
       "      <th>0</th>\n",
       "      <td>Salon_A</td>\n",
       "      <td>40</td>\n",
       "      <td>0.0200</td>\n",
       "      <td>4.0</td>\n",
       "    </tr>\n",
       "    <tr>\n",
       "      <th>1</th>\n",
       "      <td>Salon_B</td>\n",
       "      <td>100</td>\n",
       "      <td>0.0500</td>\n",
       "      <td>10.0</td>\n",
       "    </tr>\n",
       "    <tr>\n",
       "      <th>2</th>\n",
       "      <td>Salon_C</td>\n",
       "      <td>95</td>\n",
       "      <td>0.0475</td>\n",
       "      <td>9.5</td>\n",
       "    </tr>\n",
       "    <tr>\n",
       "      <th>3</th>\n",
       "      <td>Salon_D</td>\n",
       "      <td>70</td>\n",
       "      <td>0.0350</td>\n",
       "      <td>7.0</td>\n",
       "    </tr>\n",
       "    <tr>\n",
       "      <th>4</th>\n",
       "      <td>Salon_E</td>\n",
       "      <td>510</td>\n",
       "      <td>0.2550</td>\n",
       "      <td>51.0</td>\n",
       "    </tr>\n",
       "    <tr>\n",
       "      <th>5</th>\n",
       "      <td>Salon_F</td>\n",
       "      <td>200</td>\n",
       "      <td>0.1000</td>\n",
       "      <td>20.0</td>\n",
       "    </tr>\n",
       "    <tr>\n",
       "      <th>6</th>\n",
       "      <td>Salon_G</td>\n",
       "      <td>150</td>\n",
       "      <td>0.0750</td>\n",
       "      <td>15.0</td>\n",
       "    </tr>\n",
       "    <tr>\n",
       "      <th>7</th>\n",
       "      <td>Salon_H</td>\n",
       "      <td>125</td>\n",
       "      <td>0.0625</td>\n",
       "      <td>12.5</td>\n",
       "    </tr>\n",
       "    <tr>\n",
       "      <th>8</th>\n",
       "      <td>Salon_I</td>\n",
       "      <td>310</td>\n",
       "      <td>0.1550</td>\n",
       "      <td>31.0</td>\n",
       "    </tr>\n",
       "    <tr>\n",
       "      <th>9</th>\n",
       "      <td>Salon_J</td>\n",
       "      <td>400</td>\n",
       "      <td>0.2000</td>\n",
       "      <td>40.0</td>\n",
       "    </tr>\n",
       "  </tbody>\n",
       "</table>\n",
       "</div>"
      ],
      "text/plain": [
       "     Salon  Asistentes  Porcentaje  Encuestados\n",
       "0  Salon_A          40      0.0200          4.0\n",
       "1  Salon_B         100      0.0500         10.0\n",
       "2  Salon_C          95      0.0475          9.5\n",
       "3  Salon_D          70      0.0350          7.0\n",
       "4  Salon_E         510      0.2550         51.0\n",
       "5  Salon_F         200      0.1000         20.0\n",
       "6  Salon_G         150      0.0750         15.0\n",
       "7  Salon_H         125      0.0625         12.5\n",
       "8  Salon_I         310      0.1550         31.0\n",
       "9  Salon_J         400      0.2000         40.0"
      ]
     },
     "execution_count": 56,
     "metadata": {},
     "output_type": "execute_result"
    }
   ],
   "source": [
    "df"
   ]
  },
  {
   "cell_type": "code",
   "execution_count": 57,
   "id": "a2898d76",
   "metadata": {},
   "outputs": [
    {
     "data": {
      "text/plain": [
       "200.0"
      ]
     },
     "execution_count": 57,
     "metadata": {},
     "output_type": "execute_result"
    }
   ],
   "source": [
    "np.sum( df.Encuestados )"
   ]
  },
  {
   "cell_type": "code",
   "execution_count": 58,
   "id": "8f09926e",
   "metadata": {},
   "outputs": [],
   "source": [
    "df.to_excel('NumeroEncuestados.xlsx',sheet_name='Encuesta1',index=False)"
   ]
  },
  {
   "cell_type": "markdown",
   "id": "08b261a1",
   "metadata": {},
   "source": [
    "# Muestreo sistematico"
   ]
  },
  {
   "cell_type": "code",
   "execution_count": 59,
   "id": "0c7f6140",
   "metadata": {},
   "outputs": [],
   "source": [
    "l = [ 0,-1,-3,-5,5,7,4,10,12,15,20,19,50,55,60,45]"
   ]
  },
  {
   "cell_type": "code",
   "execution_count": 61,
   "id": "6de2b9a4",
   "metadata": {},
   "outputs": [
    {
     "data": {
      "text/plain": [
       "array([60, 55, 50, 45, 20, 19, 15, 12, 10,  7,  5,  4,  0, -1, -3, -5])"
      ]
     },
     "execution_count": 61,
     "metadata": {},
     "output_type": "execute_result"
    }
   ],
   "source": [
    "sort_l = np.sort(l)[::-1]\n",
    "sort_l"
   ]
  },
  {
   "cell_type": "code",
   "execution_count": 62,
   "id": "9a2c8609",
   "metadata": {},
   "outputs": [
    {
     "name": "stdout",
     "output_type": "stream",
     "text": [
      "4\n"
     ]
    }
   ],
   "source": [
    "n = 4\n",
    "k = int( len(l)/n )\n",
    "print(k)"
   ]
  },
  {
   "cell_type": "code",
   "execution_count": 72,
   "id": "2d0d54ed",
   "metadata": {},
   "outputs": [
    {
     "data": {
      "text/plain": [
       "2"
      ]
     },
     "execution_count": 72,
     "metadata": {},
     "output_type": "execute_result"
    }
   ],
   "source": [
    "i0 = np.random.randint(k)\n",
    "i0"
   ]
  },
  {
   "cell_type": "code",
   "execution_count": 74,
   "id": "c6c9630b",
   "metadata": {},
   "outputs": [
    {
     "data": {
      "text/plain": [
       "array([50.,  0.,  0.,  0.])"
      ]
     },
     "execution_count": 74,
     "metadata": {},
     "output_type": "execute_result"
    }
   ],
   "source": [
    "S = np.zeros(n)\n",
    "S[0] = sort_l[i0]\n",
    "S"
   ]
  },
  {
   "cell_type": "code",
   "execution_count": 75,
   "id": "5fa62bab",
   "metadata": {},
   "outputs": [],
   "source": [
    "for i in range(1,n):\n",
    "    i0 += k\n",
    "    S[i] = sort_l[i0]"
   ]
  },
  {
   "cell_type": "code",
   "execution_count": 76,
   "id": "c298475e",
   "metadata": {},
   "outputs": [
    {
     "data": {
      "text/plain": [
       "array([50., 15.,  5., -3.])"
      ]
     },
     "execution_count": 76,
     "metadata": {},
     "output_type": "execute_result"
    }
   ],
   "source": [
    "S"
   ]
  },
  {
   "cell_type": "markdown",
   "id": "33659839",
   "metadata": {},
   "source": [
    "# Probabilidad - frecuentista\n",
    "\n",
    "E:= Caiga el numero 3"
   ]
  },
  {
   "cell_type": "code",
   "execution_count": 101,
   "id": "926ebc1b",
   "metadata": {},
   "outputs": [],
   "source": [
    "def GetFrecuencias(N):\n",
    "\n",
    "    NTimes = 0\n",
    "\n",
    "    for i in range(int(N)):\n",
    "        Evento = np.random.randint(1,7)\n",
    "        #print(Evento)\n",
    "        if Evento == 3:\n",
    "            NTimes += 1\n",
    "            \n",
    "    return NTimes/N"
   ]
  },
  {
   "cell_type": "code",
   "execution_count": 110,
   "id": "f07049f2",
   "metadata": {},
   "outputs": [],
   "source": [
    "n = np.logspace(1,6,10)\n",
    "\n",
    "freq = np.zeros(len(n))\n",
    "\n",
    "for i in range(len(n)):\n",
    "    freq[i] = GetFrecuencias(n[i])"
   ]
  },
  {
   "cell_type": "code",
   "execution_count": 112,
   "id": "18f8f4cc",
   "metadata": {},
   "outputs": [
    {
     "data": {
      "image/png": "[encoded data removed]",
      "text/plain": [
       "<Figure size 432x288 with 1 Axes>"
      ]
     },
     "metadata": {
      "needs_background": "light"
     },
     "output_type": "display_data"
    }
   ],
   "source": [
    "plt.plot(n,freq)\n",
    "plt.axhline(y=1/6,color='r',ls='--')\n",
    "plt.xscale('log')"
   ]
  },
  {
   "cell_type": "code",
   "execution_count": null,
   "id": "b7984481",
   "metadata": {},
   "outputs": [],
   "source": []
  },
  {
   "cell_type": "code",
   "execution_count": null,
   "id": "db9ddaed",
   "metadata": {},
   "outputs": [],
   "source": []
  },
  {
   "cell_type": "code",
   "execution_count": null,
   "id": "cc444902",
   "metadata": {},
   "outputs": [],
   "source": []
  }
 ],
 "metadata": {
  "kernelspec": {
   "display_name": "Python 3",
   "language": "python",
   "name": "python3"
  },
  "language_info": {
   "codemirror_mode": {
    "name": "ipython",
    "version": 3
   },
   "file_extension": ".py",
   "mimetype": "text/x-python",
   "name": "python",
   "nbconvert_exporter": "python",
   "pygments_lexer": "ipython3",
   "version": "3.8.2"
  }
 },
 "nbformat": 4,
 "nbformat_minor": 5
}
