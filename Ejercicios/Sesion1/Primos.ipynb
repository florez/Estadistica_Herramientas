{
 "cells": [
  {
   "cell_type": "code",
   "execution_count": 1,
   "id": "cb20abcf",
   "metadata": {},
   "outputs": [],
   "source": [
    "import numpy as np\n",
    "import matplotlib.pyplot as plt"
   ]
  },
  {
   "cell_type": "code",
   "execution_count": 2,
   "id": "722e6c9e",
   "metadata": {},
   "outputs": [],
   "source": [
    "def isPrime(x):\n",
    "    isPrime = np.any( [x%i == 0 for i in range(2,x)] )\n",
    "    return not isPrime"
   ]
  },
  {
   "cell_type": "code",
   "execution_count": 3,
   "id": "73c6a0b9",
   "metadata": {},
   "outputs": [
    {
     "data": {
      "text/plain": [
       "False"
      ]
     },
     "execution_count": 3,
     "metadata": {},
     "output_type": "execute_result"
    }
   ],
   "source": [
    "isPrime(4)"
   ]
  },
  {
   "cell_type": "code",
   "execution_count": 4,
   "id": "c92bcd45",
   "metadata": {},
   "outputs": [],
   "source": [
    "i = 2\n",
    "it = 1\n",
    "\n",
    "numero = np.array([])\n",
    "\n",
    "while it != 1000:\n",
    "    \n",
    "    if isPrime(i):\n",
    "        numero = np.append(numero,i)\n",
    "        it += 1\n",
    "        \n",
    "    i += 1"
   ]
  },
  {
   "cell_type": "code",
   "execution_count": 5,
   "id": "6658687e",
   "metadata": {},
   "outputs": [
    {
     "data": {
      "text/plain": [
       "array([ 2.,  3.,  5.,  7., 11., 13., 17., 19., 23., 29.])"
      ]
     },
     "execution_count": 5,
     "metadata": {},
     "output_type": "execute_result"
    }
   ],
   "source": [
    "numero[:10]"
   ]
  },
  {
   "cell_type": "code",
   "execution_count": 7,
   "id": "90851dee",
   "metadata": {},
   "outputs": [
    {
     "data": {
      "image/png": "[encoded data removed]",
      "text/plain": [
       "<Figure size 720x360 with 1 Axes>"
      ]
     },
     "metadata": {
      "needs_background": "light"
     },
     "output_type": "display_data"
    }
   ],
   "source": [
    "fig = plt.figure( figsize=(10,5) )\n",
    "ax = fig.add_subplot(111)\n",
    "ax.scatter(np.arange(1,1000,1),numero, marker='.', color='r')\n",
    "#plt.yscale('log')\n",
    "#plt.xscale('log')\n",
    "plt.savefig('Primos.pdf')"
   ]
  },
  {
   "cell_type": "code",
   "execution_count": null,
   "id": "65680e77",
   "metadata": {},
   "outputs": [],
   "source": []
  }
 ],
 "metadata": {
  "kernelspec": {
   "display_name": "Python 3",
   "language": "python",
   "name": "python3"
  },
  "language_info": {
   "codemirror_mode": {
    "name": "ipython",
    "version": 3
   },
   "file_extension": ".py",
   "mimetype": "text/x-python",
   "name": "python",
   "nbconvert_exporter": "python",
   "pygments_lexer": "ipython3",
   "version": "3.8.2"
  }
 },
 "nbformat": 4,
 "nbformat_minor": 5
}
