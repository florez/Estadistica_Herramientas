{
 "cells": [
  {
   "cell_type": "code",
   "execution_count": 1,
   "id": "ef878493",
   "metadata": {},
   "outputs": [],
   "source": [
    "import numpy as np\n",
    "import matplotlib.pyplot as plt\n",
    "from tqdm import tqdm\n",
    "from scipy.stats import chi2"
   ]
  },
  {
   "cell_type": "markdown",
   "id": "c33a8b22",
   "metadata": {},
   "source": [
    "# Remuestreo"
   ]
  },
  {
   "cell_type": "code",
   "execution_count": 10,
   "id": "a8eb88f8",
   "metadata": {},
   "outputs": [],
   "source": [
    "sample = np.array([0.974,0.950,0.932,1.104,1.038,0.920,0.935,0.907,0.810,0.915])"
   ]
  },
  {
   "cell_type": "code",
   "execution_count": 22,
   "id": "961f3d7e",
   "metadata": {},
   "outputs": [
    {
     "name": "stdout",
     "output_type": "stream",
     "text": [
      "0.9484999999999999\n"
     ]
    }
   ],
   "source": [
    "media = np.mean(sample)\n",
    "print(media)"
   ]
  },
  {
   "cell_type": "code",
   "execution_count": 31,
   "id": "84103c7b",
   "metadata": {},
   "outputs": [],
   "source": [
    "def Bootstrapping(sample):\n",
    "    resample = np.random.choice( sample, size=len(sample), replace=True )\n",
    "    return resample"
   ]
  },
  {
   "cell_type": "code",
   "execution_count": 35,
   "id": "33c697b3",
   "metadata": {},
   "outputs": [
    {
     "name": "stderr",
     "output_type": "stream",
     "text": [
      "100%|██████████| 100000/100000 [00:06<00:00, 14430.19it/s]\n"
     ]
    }
   ],
   "source": [
    "N = 100000\n",
    "\n",
    "ValoresMedios = np.zeros( N )\n",
    "\n",
    "for i in tqdm(range(N)):\n",
    "    resample = Bootstrapping(sample)\n",
    "    ValoresMedios[i] = np.mean(resample)"
   ]
  },
  {
   "cell_type": "code",
   "execution_count": 41,
   "id": "6934c17c",
   "metadata": {},
   "outputs": [
    {
     "data": {
      "image/png": "[encoded data removed]",
      "text/plain": [
       "<Figure size 432x288 with 1 Axes>"
      ]
     },
     "metadata": {
      "needs_background": "light"
     },
     "output_type": "display_data"
    }
   ],
   "source": [
    "plt.hist(ValoresMedios, bins=20, density=True, ec='k');"
   ]
  },
  {
   "cell_type": "code",
   "execution_count": 43,
   "id": "61b2e4b6",
   "metadata": {},
   "outputs": [
    {
     "name": "stdout",
     "output_type": "stream",
     "text": [
      "0.9478000000000002\n"
     ]
    }
   ],
   "source": [
    "mean = np.percentile(ValoresMedios,50)\n",
    "print(mean)"
   ]
  },
  {
   "cell_type": "code",
   "execution_count": null,
   "id": "f20cfcf5",
   "metadata": {},
   "outputs": [],
   "source": []
  },
  {
   "cell_type": "code",
   "execution_count": 9,
   "id": "ee81cc03",
   "metadata": {},
   "outputs": [],
   "source": [
    "file = '../Data/Sesion6/MinimosCuadratico.txt'"
   ]
  },
  {
   "cell_type": "code",
   "execution_count": null,
   "id": "94378635",
   "metadata": {},
   "outputs": [],
   "source": []
  },
  {
   "cell_type": "code",
   "execution_count": null,
   "id": "c65a8aa0",
   "metadata": {},
   "outputs": [],
   "source": []
  },
  {
   "cell_type": "code",
   "execution_count": null,
   "id": "f274515b",
   "metadata": {},
   "outputs": [],
   "source": []
  },
  {
   "cell_type": "code",
   "execution_count": null,
   "id": "6cd99a33",
   "metadata": {},
   "outputs": [],
   "source": []
  }
 ],
 "metadata": {
  "kernelspec": {
   "display_name": "Python 3",
   "language": "python",
   "name": "python3"
  },
  "language_info": {
   "codemirror_mode": {
    "name": "ipython",
    "version": 3
   },
   "file_extension": ".py",
   "mimetype": "text/x-python",
   "name": "python",
   "nbconvert_exporter": "python",
   "pygments_lexer": "ipython3",
   "version": "3.8.2"
  }
 },
 "nbformat": 4,
 "nbformat_minor": 5
}
