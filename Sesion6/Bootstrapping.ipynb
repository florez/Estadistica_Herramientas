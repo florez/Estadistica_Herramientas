{
 "cells": [
  {
   "cell_type": "code",
   "execution_count": 54,
   "id": "de3b4c88",
   "metadata": {},
   "outputs": [],
   "source": [
    "import numpy as np\n",
    "import matplotlib.pyplot as plt\n",
    "from tqdm import tqdm\n",
    "from scipy.stats import chi2\n",
    "from scipy.stats import norm"
   ]
  },
  {
   "cell_type": "markdown",
   "id": "747f97b3",
   "metadata": {},
   "source": [
    "# Remuestreo"
   ]
  },
  {
   "cell_type": "code",
   "execution_count": 10,
   "id": "beef55dc",
   "metadata": {},
   "outputs": [],
   "source": [
    "sample = np.array([0.974,0.950,0.932,1.104,1.038,0.920,0.935,0.907,0.810,0.915])"
   ]
  },
  {
   "cell_type": "code",
   "execution_count": 22,
   "id": "7a308fd3",
   "metadata": {},
   "outputs": [
    {
     "name": "stdout",
     "output_type": "stream",
     "text": [
      "0.9484999999999999\n"
     ]
    }
   ],
   "source": [
    "media = np.mean(sample)\n",
    "print(media)"
   ]
  },
  {
   "cell_type": "code",
   "execution_count": 31,
   "id": "a0578b51",
   "metadata": {},
   "outputs": [],
   "source": [
    "def Bootstrapping(sample):\n",
    "    resample = np.random.choice( sample, size=len(sample), replace=True )\n",
    "    return resample"
   ]
  },
  {
   "cell_type": "code",
   "execution_count": 35,
   "id": "f4536d04",
   "metadata": {},
   "outputs": [
    {
     "name": "stderr",
     "output_type": "stream",
     "text": [
      "100%|██████████| 100000/100000 [00:06<00:00, 14430.19it/s]\n"
     ]
    }
   ],
   "source": [
    "N = 100000\n",
    "\n",
    "ValoresMedios = np.zeros( N )\n",
    "\n",
    "for i in tqdm(range(N)):\n",
    "    resample = Bootstrapping(sample)\n",
    "    ValoresMedios[i] = np.mean(resample)"
   ]
  },
  {
   "cell_type": "code",
   "execution_count": 45,
   "id": "24becb19",
   "metadata": {},
   "outputs": [
    {
     "data": {
      "text/plain": [
       "<matplotlib.lines.Line2D at 0x7fed281217c0>"
      ]
     },
     "execution_count": 45,
     "metadata": {},
     "output_type": "execute_result"
    },
    {
     "data": {
      "image/png": "[encoded data removed]",
      "text/plain": [
       "<Figure size 432x288 with 1 Axes>"
      ]
     },
     "metadata": {
      "needs_background": "light"
     },
     "output_type": "display_data"
    }
   ],
   "source": [
    "plt.hist(ValoresMedios, bins=20, density=True, ec='k');\n",
    "plt.axvline(x =0.975, color='r' )"
   ]
  },
  {
   "cell_type": "code",
   "execution_count": 43,
   "id": "fc577e1e",
   "metadata": {},
   "outputs": [
    {
     "name": "stdout",
     "output_type": "stream",
     "text": [
      "0.9478000000000002\n"
     ]
    }
   ],
   "source": [
    "mean = np.percentile(ValoresMedios,50)\n",
    "print(mean)"
   ]
  },
  {
   "cell_type": "code",
   "execution_count": 51,
   "id": "23473dc1",
   "metadata": {},
   "outputs": [],
   "source": [
    "q = np.quantile( a = ValoresMedios, q=[0.16,0.84] )\n",
    "q1 = np.quantile( a = ValoresMedios, q=[0.023,0.977] )"
   ]
  },
  {
   "cell_type": "code",
   "execution_count": 52,
   "id": "aa7d5ad6",
   "metadata": {},
   "outputs": [
    {
     "data": {
      "text/plain": [
       "<matplotlib.lines.Line2D at 0x7fed23fa4d00>"
      ]
     },
     "execution_count": 52,
     "metadata": {},
     "output_type": "execute_result"
    },
    {
     "data": {
      "image/png": "[encoded data removed]",
      "text/plain": [
       "<Figure size 432x288 with 1 Axes>"
      ]
     },
     "metadata": {
      "needs_background": "light"
     },
     "output_type": "display_data"
    }
   ],
   "source": [
    "plt.hist(ValoresMedios, bins=20, density=True, ec='k');\n",
    "plt.axvline(x = mean, color='r' )\n",
    "plt.axvline(x =q[0], color='r' )\n",
    "plt.axvline(x =q[1], color='r' )\n",
    "plt.axvline(x =q1[0], color='g' )\n",
    "plt.axvline(x =q1[1], color='g' )"
   ]
  },
  {
   "cell_type": "code",
   "execution_count": 50,
   "id": "45e064e8",
   "metadata": {},
   "outputs": [
    {
     "name": "stdout",
     "output_type": "stream",
     "text": [
      "0.022900000000000142 0.024199999999999666\n"
     ]
    }
   ],
   "source": [
    "error_inf = mean-q[0]\n",
    "error_sup = q[1] - mean\n",
    "print(error_inf,error_sup)"
   ]
  },
  {
   "cell_type": "markdown",
   "id": "7c4dbd99",
   "metadata": {},
   "source": [
    "$$ \\hat{\\mu} = 0.9478_{-0.0229}^{+0.0241} $$ al 68% de nivel de confianza"
   ]
  },
  {
   "cell_type": "code",
   "execution_count": 53,
   "id": "771f7398",
   "metadata": {},
   "outputs": [
    {
     "name": "stdout",
     "output_type": "stream",
     "text": [
      "0.04490000000000016 0.049599999999999866\n"
     ]
    }
   ],
   "source": [
    "error_inf = mean-q1[0]\n",
    "error_sup = q1[1] - mean\n",
    "print(error_inf,error_sup)"
   ]
  },
  {
   "cell_type": "markdown",
   "id": "134d372c",
   "metadata": {},
   "source": [
    "$$ \\hat{\\mu} = 0.9478_{-0.0449}^{+0.0495} $$ al 95% de nivel de confianza"
   ]
  },
  {
   "cell_type": "code",
   "execution_count": 58,
   "id": "48569bc2",
   "metadata": {},
   "outputs": [
    {
     "data": {
      "text/plain": [
       "2.866515719235352e-07"
      ]
     },
     "execution_count": 58,
     "metadata": {},
     "output_type": "execute_result"
    }
   ],
   "source": [
    "1 - norm.cdf(5)"
   ]
  },
  {
   "cell_type": "code",
   "execution_count": 60,
   "id": "e74ab5bc",
   "metadata": {},
   "outputs": [],
   "source": [
    "file = '../Data/Sesion6/MinimosCuadratico.txt'"
   ]
  },
  {
   "cell_type": "code",
   "execution_count": 91,
   "id": "1f19fdad",
   "metadata": {},
   "outputs": [
    {
     "name": "stdout",
     "output_type": "stream",
     "text": [
      "20\n"
     ]
    }
   ],
   "source": [
    "data = np.loadtxt(file)\n",
    "#print(data)\n",
    "x = data[:,0]\n",
    "y = data[:,1]\n",
    "N = len(x)\n",
    "print(N)"
   ]
  },
  {
   "cell_type": "code",
   "execution_count": 80,
   "id": "17b9c0c2",
   "metadata": {},
   "outputs": [
    {
     "data": {
      "text/plain": [
       "array([ -3.348886,  10.779   ,  13.12721 ,  21.20879 ,  20.63223 ,\n",
       "        34.11089 ,  60.66644 ,  55.07888 ,  81.89598 ,  96.83438 ,\n",
       "       117.5549  , 130.5394  , 147.7079  , 185.1728  , 210.7779  ,\n",
       "       235.0856  , 266.336   , 297.0943  , 322.7923  , 352.3838  ])"
      ]
     },
     "execution_count": 80,
     "metadata": {},
     "output_type": "execute_result"
    },
    {
     "data": {
      "image/png": "[encoded data removed]",
      "text/plain": [
       "<Figure size 432x288 with 1 Axes>"
      ]
     },
     "metadata": {
      "needs_background": "light"
     },
     "output_type": "display_data"
    }
   ],
   "source": [
    "plt.scatter(x,y)\n",
    "y"
   ]
  },
  {
   "cell_type": "code",
   "execution_count": 103,
   "id": "61038d97",
   "metadata": {},
   "outputs": [],
   "source": [
    "def Fit(x,y,n=3):\n",
    "    \n",
    "    size = len(x)\n",
    "    b = y\n",
    "    \n",
    "    A = np.ones((len(x),n))\n",
    "    \n",
    "    for i in range(1,n):\n",
    "        A[:,i] = x**(i)\n",
    "        \n",
    "    # Hacer  el ajuste\n",
    "    M = np.dot(A.T,A)\n",
    "    bt = np.dot(A.T,b)\n",
    "    \n",
    "    xsol = np.linalg.solve(M,bt)\n",
    "    \n",
    "    return xsol"
   ]
  },
  {
   "cell_type": "code",
   "execution_count": 224,
   "id": "86a247e1",
   "metadata": {},
   "outputs": [
    {
     "data": {
      "text/plain": [
       "array([1.22132054, 6.09075205, 2.9565874 ])"
      ]
     },
     "execution_count": 224,
     "metadata": {},
     "output_type": "execute_result"
    }
   ],
   "source": [
    "n = 3\n",
    "p = Fit(x,y,n=n)\n",
    "p"
   ]
  },
  {
   "cell_type": "code",
   "execution_count": 225,
   "id": "f0177b45",
   "metadata": {},
   "outputs": [],
   "source": [
    "def GetModel(x,p):\n",
    "    \n",
    "    y = 0.\n",
    "    for i in range(len(p)):\n",
    "        y += p[i]*x**i\n",
    "        \n",
    "    return y"
   ]
  },
  {
   "cell_type": "code",
   "execution_count": 226,
   "id": "1908d01d",
   "metadata": {},
   "outputs": [
    {
     "data": {
      "text/plain": [
       "<matplotlib.collections.PathCollection at 0x7fed22f6f3d0>"
      ]
     },
     "execution_count": 226,
     "metadata": {},
     "output_type": "execute_result"
    },
    {
     "data": {
      "image/png": "[encoded data removed]",
      "text/plain": [
       "<Figure size 432x288 with 1 Axes>"
      ]
     },
     "metadata": {
      "needs_background": "light"
     },
     "output_type": "display_data"
    }
   ],
   "source": [
    "t = np.linspace(0,10,100)\n",
    "plt.scatter(x,y)\n",
    "plt.scatter(x, GetModel(x,p), color='r' )"
   ]
  },
  {
   "cell_type": "code",
   "execution_count": 227,
   "id": "0cd6e797",
   "metadata": {},
   "outputs": [],
   "source": [
    "def GetChi2(x,y,p):\n",
    "    return np.sum( ( y - GetModel(x,p) )**2 )"
   ]
  },
  {
   "cell_type": "code",
   "execution_count": 228,
   "id": "33991a93",
   "metadata": {},
   "outputs": [
    {
     "name": "stdout",
     "output_type": "stream",
     "text": [
      "17\n",
      "32.55960531287638\n"
     ]
    }
   ],
   "source": [
    "Chi2 = GetChi2(x,y,p)\n",
    "Chi2\n",
    "df = N - n # Grados de libertad\n",
    "print(df)\n",
    "print(Chi2/df)"
   ]
  },
  {
   "cell_type": "code",
   "execution_count": 229,
   "id": "00b8d3ed",
   "metadata": {},
   "outputs": [],
   "source": [
    "#l1 = []\n",
    "#l2 = []\n",
    "##for i in range(3,20):\n",
    " #   p = Fit(x,y,n=i)\n",
    " #   Chi2 = GetChi2(x,y,p)\n",
    " #   df = N - i\n",
    " #   l1.append(i)\n",
    " #   l2.append(Chi2/df)"
   ]
  },
  {
   "cell_type": "code",
   "execution_count": 230,
   "id": "7115b8ce",
   "metadata": {},
   "outputs": [],
   "source": [
    "#plt.plot(l1,l2)\n",
    "#plt.yscale('log')"
   ]
  },
  {
   "cell_type": "code",
   "execution_count": 231,
   "id": "74e0a7f7",
   "metadata": {},
   "outputs": [
    {
     "data": {
      "text/plain": [
       "array([1.22132054, 6.09075205, 2.9565874 ])"
      ]
     },
     "execution_count": 231,
     "metadata": {},
     "output_type": "execute_result"
    }
   ],
   "source": [
    "p"
   ]
  },
  {
   "cell_type": "code",
   "execution_count": 232,
   "id": "0a7838fe",
   "metadata": {},
   "outputs": [],
   "source": [
    "dict1 = dict(zip(x,y))"
   ]
  },
  {
   "cell_type": "code",
   "execution_count": 233,
   "id": "83171687",
   "metadata": {},
   "outputs": [
    {
     "data": {
      "text/plain": [
       "{0.0: -3.348886,\n",
       " 0.5263158: 10.779,\n",
       " 1.052632: 13.12721,\n",
       " 1.578947: 21.20879,\n",
       " 2.105263: 20.63223,\n",
       " 2.631579: 34.11089,\n",
       " 3.157895: 60.66644,\n",
       " 3.684211: 55.07888,\n",
       " 4.210526: 81.89598,\n",
       " 4.736842: 96.83438,\n",
       " 5.263158: 117.5549,\n",
       " 5.789474: 130.5394,\n",
       " 6.315789: 147.7079,\n",
       " 6.842105: 185.1728,\n",
       " 7.368421: 210.7779,\n",
       " 7.894737: 235.0856,\n",
       " 8.421053: 266.336,\n",
       " 8.947368: 297.0943,\n",
       " 9.473684: 322.7923,\n",
       " 10.0: 352.3838}"
      ]
     },
     "execution_count": 233,
     "metadata": {},
     "output_type": "execute_result"
    }
   ],
   "source": [
    "dict1"
   ]
  },
  {
   "cell_type": "code",
   "execution_count": 244,
   "id": "4610e3e2",
   "metadata": {},
   "outputs": [],
   "source": [
    "def GetBootstrapping( x, n=3, NTrial = int(5e4) ):\n",
    "    \n",
    "    Values = np.zeros( (NTrial, n) )\n",
    "    \n",
    "    for i in tqdm( range(NTrial) ):\n",
    "        \n",
    "        x1 = Bootstrapping(x)\n",
    "            \n",
    "        y1 = np.array([])\n",
    "        for j in x1:\n",
    "            y1 = np.append(y1,dict1[j])\n",
    "            \n",
    "        p = Fit(x1,y1,n=n)\n",
    "        \n",
    "        Values[i] = p\n",
    "    \n",
    "    return Values"
   ]
  },
  {
   "cell_type": "code",
   "execution_count": 252,
   "id": "92cb4603",
   "metadata": {},
   "outputs": [
    {
     "name": "stderr",
     "output_type": "stream",
     "text": [
      "100%|██████████| 50000/50000 [00:09<00:00, 5502.19it/s]\n"
     ]
    }
   ],
   "source": [
    "Sample = GetBootstrapping(x,n=3)"
   ]
  },
  {
   "cell_type": "code",
   "execution_count": 254,
   "id": "5d2f5116",
   "metadata": {},
   "outputs": [
    {
     "data": {
      "image/png": "[encoded data removed]",
      "text/plain": [
       "<Figure size 288x288 with 1 Axes>"
      ]
     },
     "metadata": {
      "needs_background": "light"
     },
     "output_type": "display_data"
    },
    {
     "data": {
      "image/png": "[encoded data removed]",
      "text/plain": [
       "<Figure size 288x288 with 1 Axes>"
      ]
     },
     "metadata": {
      "needs_background": "light"
     },
     "output_type": "display_data"
    },
    {
     "data": {
      "image/png": "[encoded data removed]",
      "text/plain": [
       "<Figure size 288x288 with 1 Axes>"
      ]
     },
     "metadata": {
      "needs_background": "light"
     },
     "output_type": "display_data"
    }
   ],
   "source": [
    "for i in range(3):\n",
    "    fig = plt.figure(figsize=(4,4))\n",
    "    plt.hist( Sample[:,i], bins=60, density=True )\n",
    "    #plt.xlim(-30,30)\n",
    "    "
   ]
  },
  {
   "cell_type": "code",
   "execution_count": 256,
   "id": "f5877582",
   "metadata": {},
   "outputs": [
    {
     "name": "stdout",
     "output_type": "stream",
     "text": [
      "[1.39673255 5.97171974 2.96878638]\n"
     ]
    }
   ],
   "source": [
    "mean = np.percentile(Sample,50,axis=0)\n",
    "print(mean)"
   ]
  },
  {
   "cell_type": "code",
   "execution_count": 257,
   "id": "bc230ab7",
   "metadata": {},
   "outputs": [
    {
     "data": {
      "text/plain": [
       "array([[-1.56096204,  4.25856809,  2.82590487],\n",
       "       [ 4.83415704,  7.45642589,  3.13963592]])"
      ]
     },
     "execution_count": 257,
     "metadata": {},
     "output_type": "execute_result"
    }
   ],
   "source": [
    "q = np.quantile(a = Sample, q=[0.16,0.84], axis=0)\n",
    "q"
   ]
  },
  {
   "cell_type": "code",
   "execution_count": 258,
   "id": "ad7a26bf",
   "metadata": {},
   "outputs": [
    {
     "name": "stdout",
     "output_type": "stream",
     "text": [
      "[3.43742449 1.48470615 0.17084954]\n"
     ]
    }
   ],
   "source": [
    "error_sup = q[1] - mean\n",
    "error_inf = mean - q[0]\n",
    "print(error_sup)"
   ]
  },
  {
   "cell_type": "code",
   "execution_count": 259,
   "id": "fc66eb35",
   "metadata": {},
   "outputs": [
    {
     "name": "stdout",
     "output_type": "stream",
     "text": [
      "[2.95769459 1.71315165 0.14288151]\n"
     ]
    }
   ],
   "source": [
    "print(error_inf)"
   ]
  },
  {
   "cell_type": "code",
   "execution_count": null,
   "id": "aae3c387",
   "metadata": {},
   "outputs": [],
   "source": []
  }
 ],
 "metadata": {
  "kernelspec": {
   "display_name": "Python 3",
   "language": "python",
   "name": "python3"
  },
  "language_info": {
   "codemirror_mode": {
    "name": "ipython",
    "version": 3
   },
   "file_extension": ".py",
   "mimetype": "text/x-python",
   "name": "python",
   "nbconvert_exporter": "python",
   "pygments_lexer": "ipython3",
   "version": "3.8.2"
  }
 },
 "nbformat": 4,
 "nbformat_minor": 5
}
