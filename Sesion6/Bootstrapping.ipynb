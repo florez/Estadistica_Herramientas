{
 "cells": [
  {
   "cell_type": "code",
   "execution_count": 1,
   "id": "b67c96f6",
   "metadata": {},
   "outputs": [],
   "source": [
    "import numpy as np\n",
    "import matplotlib.pyplot as plt\n",
    "from tqdm import tqdm\n",
    "from scipy.stats import chi2"
   ]
  },
  {
   "cell_type": "markdown",
   "id": "bc8d1453",
   "metadata": {},
   "source": [
    "# Remuestreo"
   ]
  },
  {
   "cell_type": "code",
   "execution_count": 10,
   "id": "4616ca16",
   "metadata": {},
   "outputs": [],
   "source": [
    "sample = np.array([0.974,0.950,0.932,1.104,1.038,0.920,0.935,0.907,0.810,0.915])"
   ]
  },
  {
   "cell_type": "code",
   "execution_count": 22,
   "id": "1a9d65e3",
   "metadata": {},
   "outputs": [
    {
     "name": "stdout",
     "output_type": "stream",
     "text": [
      "0.9484999999999999\n"
     ]
    }
   ],
   "source": [
    "media = np.mean(sample)\n",
    "print(media)"
   ]
  },
  {
   "cell_type": "code",
   "execution_count": 31,
   "id": "5ae3bb55",
   "metadata": {},
   "outputs": [],
   "source": [
    "def Bootstrapping(sample):\n",
    "    resample = np.random.choice( sample, size=len(sample), replace=True )\n",
    "    return resample"
   ]
  },
  {
   "cell_type": "code",
   "execution_count": 35,
   "id": "9d60b770",
   "metadata": {},
   "outputs": [
    {
     "name": "stderr",
     "output_type": "stream",
     "text": [
      "100%|██████████| 100000/100000 [00:06<00:00, 14430.19it/s]\n"
     ]
    }
   ],
   "source": [
    "N = 100000\n",
    "\n",
    "ValoresMedios = np.zeros( N )\n",
    "\n",
    "for i in tqdm(range(N)):\n",
    "    resample = Bootstrapping(sample)\n",
    "    ValoresMedios[i] = np.mean(resample)"
   ]
  },
  {
   "cell_type": "code",
   "execution_count": 45,
   "id": "6a46146b",
   "metadata": {},
   "outputs": [
    {
     "data": {
      "text/plain": [
       "<matplotlib.lines.Line2D at 0x7fed281217c0>"
      ]
     },
     "execution_count": 45,
     "metadata": {},
     "output_type": "execute_result"
    },
    {
     "data": {
      "image/png": "[encoded data removed]",
      "text/plain": [
       "<Figure size 432x288 with 1 Axes>"
      ]
     },
     "metadata": {
      "needs_background": "light"
     },
     "output_type": "display_data"
    }
   ],
   "source": [
    "plt.hist(ValoresMedios, bins=20, density=True, ec='k');\n",
    "plt.axvline(x =0.975, color='r' )"
   ]
  },
  {
   "cell_type": "code",
   "execution_count": 43,
   "id": "c6485e39",
   "metadata": {},
   "outputs": [
    {
     "name": "stdout",
     "output_type": "stream",
     "text": [
      "0.9478000000000002\n"
     ]
    }
   ],
   "source": [
    "mean = np.percentile(ValoresMedios,50)\n",
    "print(mean)"
   ]
  },
  {
   "cell_type": "code",
   "execution_count": 46,
   "id": "464ec6c2",
   "metadata": {},
   "outputs": [],
   "source": [
    "q = np.quantile( a = ValoresMedios, q=[0.16,0.84] )"
   ]
  },
  {
   "cell_type": "code",
   "execution_count": 48,
   "id": "1f6ae8c4",
   "metadata": {},
   "outputs": [
    {
     "data": {
      "text/plain": [
       "<matplotlib.lines.Line2D at 0x7fed282398b0>"
      ]
     },
     "execution_count": 48,
     "metadata": {},
     "output_type": "execute_result"
    },
    {
     "data": {
      "image/png": "[encoded data removed]",
      "text/plain": [
       "<Figure size 432x288 with 1 Axes>"
      ]
     },
     "metadata": {
      "needs_background": "light"
     },
     "output_type": "display_data"
    }
   ],
   "source": [
    "plt.hist(ValoresMedios, bins=20, density=True, ec='k');\n",
    "plt.axvline(x =q[0], color='r' )\n",
    "plt.axvline(x =q[1], color='r' )"
   ]
  },
  {
   "cell_type": "code",
   "execution_count": null,
   "id": "d7416b83",
   "metadata": {},
   "outputs": [],
   "source": []
  },
  {
   "cell_type": "code",
   "execution_count": 9,
   "id": "37c1689b",
   "metadata": {},
   "outputs": [],
   "source": [
    "file = '../Data/Sesion6/MinimosCuadratico.txt'"
   ]
  },
  {
   "cell_type": "code",
   "execution_count": null,
   "id": "9a5a49da",
   "metadata": {},
   "outputs": [],
   "source": []
  },
  {
   "cell_type": "code",
   "execution_count": null,
   "id": "d64aa88c",
   "metadata": {},
   "outputs": [],
   "source": []
  },
  {
   "cell_type": "code",
   "execution_count": null,
   "id": "31ee8ebc",
   "metadata": {},
   "outputs": [],
   "source": []
  },
  {
   "cell_type": "code",
   "execution_count": null,
   "id": "dfa8aed0",
   "metadata": {},
   "outputs": [],
   "source": []
  }
 ],
 "metadata": {
  "kernelspec": {
   "display_name": "Python 3",
   "language": "python",
   "name": "python3"
  },
  "language_info": {
   "codemirror_mode": {
    "name": "ipython",
    "version": 3
   },
   "file_extension": ".py",
   "mimetype": "text/x-python",
   "name": "python",
   "nbconvert_exporter": "python",
   "pygments_lexer": "ipython3",
   "version": "3.8.2"
  }
 },
 "nbformat": 4,
 "nbformat_minor": 5
}
