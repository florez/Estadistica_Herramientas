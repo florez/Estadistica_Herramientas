{
 "cells": [
  {
   "cell_type": "code",
   "execution_count": 32,
   "id": "231fde47",
   "metadata": {},
   "outputs": [],
   "source": [
    "import numpy as np\n",
    "import matplotlib.pyplot as plt"
   ]
  },
  {
   "cell_type": "code",
   "execution_count": 50,
   "id": "b82b86d5",
   "metadata": {},
   "outputs": [],
   "source": [
    "#!pip install numpy\n",
    "#!pip install matplotlib"
   ]
  },
  {
   "cell_type": "code",
   "execution_count": 33,
   "id": "a0fb703b",
   "metadata": {},
   "outputs": [],
   "source": [
    "# tipado dinámico"
   ]
  },
  {
   "cell_type": "code",
   "execution_count": 34,
   "id": "96f6b5de",
   "metadata": {},
   "outputs": [],
   "source": [
    "a = 0\n",
    "b = 1.\n",
    "c = 'alejandro'"
   ]
  },
  {
   "cell_type": "code",
   "execution_count": 35,
   "id": "e53a97e0",
   "metadata": {},
   "outputs": [
    {
     "data": {
      "text/plain": [
       "str"
      ]
     },
     "execution_count": 35,
     "metadata": {},
     "output_type": "execute_result"
    }
   ],
   "source": [
    "type(c)"
   ]
  },
  {
   "cell_type": "markdown",
   "id": "76ee480f",
   "metadata": {},
   "source": [
    "$$ y = 2x+1 $$"
   ]
  },
  {
   "cell_type": "code",
   "execution_count": 36,
   "id": "17c64220",
   "metadata": {},
   "outputs": [],
   "source": [
    "# funcion\n",
    "# Python es identado\n",
    "def Funcion1(x): # operador de ambito\n",
    "    return 2*x + 1"
   ]
  },
  {
   "cell_type": "code",
   "execution_count": 37,
   "id": "bead3f3f",
   "metadata": {},
   "outputs": [
    {
     "data": {
      "text/plain": [
       "3"
      ]
     },
     "execution_count": 37,
     "metadata": {},
     "output_type": "execute_result"
    }
   ],
   "source": [
    "# Evaluando en un punto\n",
    "Funcion1(1)"
   ]
  },
  {
   "cell_type": "code",
   "execution_count": 43,
   "id": "506ddbb8",
   "metadata": {},
   "outputs": [
    {
     "data": {
      "text/plain": [
       "array([-10. ,  -9.9,  -9.8,  -9.7,  -9.6,  -9.5,  -9.4,  -9.3,  -9.2,\n",
       "        -9.1,  -9. ,  -8.9,  -8.8,  -8.7,  -8.6,  -8.5,  -8.4,  -8.3,\n",
       "        -8.2,  -8.1,  -8. ,  -7.9,  -7.8,  -7.7,  -7.6,  -7.5,  -7.4,\n",
       "        -7.3,  -7.2,  -7.1,  -7. ,  -6.9,  -6.8,  -6.7,  -6.6,  -6.5,\n",
       "        -6.4,  -6.3,  -6.2,  -6.1,  -6. ,  -5.9,  -5.8,  -5.7,  -5.6,\n",
       "        -5.5,  -5.4,  -5.3,  -5.2,  -5.1,  -5. ,  -4.9,  -4.8,  -4.7,\n",
       "        -4.6,  -4.5,  -4.4,  -4.3,  -4.2,  -4.1,  -4. ,  -3.9,  -3.8,\n",
       "        -3.7,  -3.6,  -3.5,  -3.4,  -3.3,  -3.2,  -3.1,  -3. ,  -2.9,\n",
       "        -2.8,  -2.7,  -2.6,  -2.5,  -2.4,  -2.3,  -2.2,  -2.1,  -2. ,\n",
       "        -1.9,  -1.8,  -1.7,  -1.6,  -1.5,  -1.4,  -1.3,  -1.2,  -1.1,\n",
       "        -1. ,  -0.9,  -0.8,  -0.7,  -0.6,  -0.5,  -0.4,  -0.3,  -0.2,\n",
       "        -0.1,   0. ,   0.1,   0.2,   0.3,   0.4,   0.5,   0.6,   0.7,\n",
       "         0.8,   0.9,   1. ,   1.1,   1.2,   1.3,   1.4,   1.5,   1.6,\n",
       "         1.7,   1.8,   1.9,   2. ,   2.1,   2.2,   2.3,   2.4,   2.5,\n",
       "         2.6,   2.7,   2.8,   2.9,   3. ,   3.1,   3.2,   3.3,   3.4,\n",
       "         3.5,   3.6,   3.7,   3.8,   3.9,   4. ,   4.1,   4.2,   4.3,\n",
       "         4.4,   4.5,   4.6,   4.7,   4.8,   4.9,   5. ,   5.1,   5.2,\n",
       "         5.3,   5.4,   5.5,   5.6,   5.7,   5.8,   5.9,   6. ,   6.1,\n",
       "         6.2,   6.3,   6.4,   6.5,   6.6,   6.7,   6.8,   6.9,   7. ,\n",
       "         7.1,   7.2,   7.3,   7.4,   7.5,   7.6,   7.7,   7.8,   7.9,\n",
       "         8. ,   8.1,   8.2,   8.3,   8.4,   8.5,   8.6,   8.7,   8.8,\n",
       "         8.9,   9. ,   9.1,   9.2,   9.3,   9.4,   9.5,   9.6,   9.7,\n",
       "         9.8,   9.9,  10. ])"
      ]
     },
     "execution_count": 43,
     "metadata": {},
     "output_type": "execute_result"
    }
   ],
   "source": [
    "x = np.linspace(-10,10,201) # min, max, numero de puntos\n",
    "x"
   ]
  },
  {
   "cell_type": "code",
   "execution_count": 44,
   "id": "9f4266e1",
   "metadata": {},
   "outputs": [],
   "source": [
    "y = Funcion1(x)"
   ]
  },
  {
   "cell_type": "code",
   "execution_count": 45,
   "id": "45070bcc",
   "metadata": {},
   "outputs": [
    {
     "data": {
      "text/plain": [
       "array([-19. , -18.8, -18.6, -18.4, -18.2, -18. , -17.8, -17.6, -17.4,\n",
       "       -17.2, -17. , -16.8, -16.6, -16.4, -16.2, -16. , -15.8, -15.6,\n",
       "       -15.4, -15.2, -15. , -14.8, -14.6, -14.4, -14.2, -14. , -13.8,\n",
       "       -13.6, -13.4, -13.2, -13. , -12.8, -12.6, -12.4, -12.2, -12. ,\n",
       "       -11.8, -11.6, -11.4, -11.2, -11. , -10.8, -10.6, -10.4, -10.2,\n",
       "       -10. ,  -9.8,  -9.6,  -9.4,  -9.2,  -9. ,  -8.8,  -8.6,  -8.4,\n",
       "        -8.2,  -8. ,  -7.8,  -7.6,  -7.4,  -7.2,  -7. ,  -6.8,  -6.6,\n",
       "        -6.4,  -6.2,  -6. ,  -5.8,  -5.6,  -5.4,  -5.2,  -5. ,  -4.8,\n",
       "        -4.6,  -4.4,  -4.2,  -4. ,  -3.8,  -3.6,  -3.4,  -3.2,  -3. ,\n",
       "        -2.8,  -2.6,  -2.4,  -2.2,  -2. ,  -1.8,  -1.6,  -1.4,  -1.2,\n",
       "        -1. ,  -0.8,  -0.6,  -0.4,  -0.2,   0. ,   0.2,   0.4,   0.6,\n",
       "         0.8,   1. ,   1.2,   1.4,   1.6,   1.8,   2. ,   2.2,   2.4,\n",
       "         2.6,   2.8,   3. ,   3.2,   3.4,   3.6,   3.8,   4. ,   4.2,\n",
       "         4.4,   4.6,   4.8,   5. ,   5.2,   5.4,   5.6,   5.8,   6. ,\n",
       "         6.2,   6.4,   6.6,   6.8,   7. ,   7.2,   7.4,   7.6,   7.8,\n",
       "         8. ,   8.2,   8.4,   8.6,   8.8,   9. ,   9.2,   9.4,   9.6,\n",
       "         9.8,  10. ,  10.2,  10.4,  10.6,  10.8,  11. ,  11.2,  11.4,\n",
       "        11.6,  11.8,  12. ,  12.2,  12.4,  12.6,  12.8,  13. ,  13.2,\n",
       "        13.4,  13.6,  13.8,  14. ,  14.2,  14.4,  14.6,  14.8,  15. ,\n",
       "        15.2,  15.4,  15.6,  15.8,  16. ,  16.2,  16.4,  16.6,  16.8,\n",
       "        17. ,  17.2,  17.4,  17.6,  17.8,  18. ,  18.2,  18.4,  18.6,\n",
       "        18.8,  19. ,  19.2,  19.4,  19.6,  19.8,  20. ,  20.2,  20.4,\n",
       "        20.6,  20.8,  21. ])"
      ]
     },
     "execution_count": 45,
     "metadata": {},
     "output_type": "execute_result"
    }
   ],
   "source": [
    "y "
   ]
  },
  {
   "cell_type": "code",
   "execution_count": 57,
   "id": "0cc2b322",
   "metadata": {},
   "outputs": [
    {
     "data": {
      "text/plain": [
       "Text(0, 0.5, '$x[m]$')"
      ]
     },
     "execution_count": 57,
     "metadata": {},
     "output_type": "execute_result"
    },
    {
     "data": {
      "image/png": "[encoded data removed]",
      "text/plain": [
       "<Figure size 432x288 with 1 Axes>"
      ]
     },
     "metadata": {
      "needs_background": "light"
     },
     "output_type": "display_data"
    }
   ],
   "source": [
    "plt.plot(x,y,lw=2,ls='--',label='f(x)')\n",
    "plt.legend(fontsize=15)\n",
    "plt.xlabel(r'$t[s]$',fontsize=15)\n",
    "plt.ylabel(r'$x[m]$',fontsize=15)"
   ]
  },
  {
   "cell_type": "code",
   "execution_count": null,
   "id": "c64a0f9a",
   "metadata": {},
   "outputs": [],
   "source": []
  }
 ],
 "metadata": {
  "kernelspec": {
   "display_name": "Python 3",
   "language": "python",
   "name": "python3"
  },
  "language_info": {
   "codemirror_mode": {
    "name": "ipython",
    "version": 3
   },
   "file_extension": ".py",
   "mimetype": "text/x-python",
   "name": "python",
   "nbconvert_exporter": "python",
   "pygments_lexer": "ipython3",
   "version": "3.8.2"
  }
 },
 "nbformat": 4,
 "nbformat_minor": 5
}
