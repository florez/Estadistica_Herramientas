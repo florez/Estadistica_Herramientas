{
 "cells": [
  {
   "cell_type": "code",
   "execution_count": 1,
   "id": "2447ac0b",
   "metadata": {},
   "outputs": [],
   "source": [
    "import numpy as np\n",
    "import matplotlib.pyplot as plt"
   ]
  },
  {
   "cell_type": "code",
   "execution_count": 22,
   "id": "d2bdb84d",
   "metadata": {},
   "outputs": [
    {
     "data": {
      "text/plain": [
       "58"
      ]
     },
     "execution_count": 22,
     "metadata": {},
     "output_type": "execute_result"
    }
   ],
   "source": [
    "data = np.array([1,2,1,2,1,2,2,2,2,2,1,1,1,2,1,2,2,1,1,2,2,2,1,1,2,1,2,1,2,1,2,1,1,2,1,2,1,2,1,2,2,3,3,3,3,3,3,3,4,4,4,4,4,4,4,4,4,4])\n",
    "len(data)"
   ]
  },
  {
   "cell_type": "code",
   "execution_count": 23,
   "id": "1708752d",
   "metadata": {},
   "outputs": [
    {
     "name": "stdout",
     "output_type": "stream",
     "text": [
      "[1. 2. 3. 4. 5.]\n",
      "[1. 1. 1. 1.]\n"
     ]
    },
    {
     "data": {
      "text/plain": [
       "array([1.5, 2.5, 3.5, 4.5])"
      ]
     },
     "execution_count": 23,
     "metadata": {},
     "output_type": "execute_result"
    }
   ],
   "source": [
    "x = np.linspace(1,5,5)\n",
    "print(x)\n",
    "H, bins = np.histogram(data,bins=x)\n",
    "w = np.diff(bins)\n",
    "print(w)\n",
    "m = bins[:-1] + 0.5*w[0] # Marca de Clase\n",
    "m"
   ]
  },
  {
   "cell_type": "code",
   "execution_count": 24,
   "id": "6414d647",
   "metadata": {},
   "outputs": [],
   "source": [
    "HNorm = H/np.sum(H*w)"
   ]
  },
  {
   "cell_type": "code",
   "execution_count": 31,
   "id": "57ccdcdd",
   "metadata": {},
   "outputs": [
    {
     "name": "stdout",
     "output_type": "stream",
     "text": [
      "0\n",
      "1\n",
      "2\n",
      "3\n"
     ]
    },
    {
     "data": {
      "image/png": "[encoded data removed]",
      "text/plain": [
       "<Figure size 432x288 with 1 Axes>"
      ]
     },
     "metadata": {
      "needs_background": "light"
     },
     "output_type": "display_data"
    }
   ],
   "source": [
    "plt.bar(m,HNorm,width=w,ec='k')\n",
    "plt.ylim(0,0.6)\n",
    "\n",
    "for i in range(len(m)):\n",
    "    print(i) \n",
    "    #(x,y,valor)\n",
    "    plt.text( m[i], 0.02+np.round( HNorm[i],2 ), str(np.round( HNorm[i]*100, 2 ))+'%', ha='center', fontsize=15 )"
   ]
  },
  {
   "cell_type": "code",
   "execution_count": null,
   "id": "a7798f12",
   "metadata": {},
   "outputs": [],
   "source": []
  }
 ],
 "metadata": {
  "kernelspec": {
   "display_name": "Python 3",
   "language": "python",
   "name": "python3"
  },
  "language_info": {
   "codemirror_mode": {
    "name": "ipython",
    "version": 3
   },
   "file_extension": ".py",
   "mimetype": "text/x-python",
   "name": "python",
   "nbconvert_exporter": "python",
   "pygments_lexer": "ipython3",
   "version": "3.8.2"
  }
 },
 "nbformat": 4,
 "nbformat_minor": 5
}
