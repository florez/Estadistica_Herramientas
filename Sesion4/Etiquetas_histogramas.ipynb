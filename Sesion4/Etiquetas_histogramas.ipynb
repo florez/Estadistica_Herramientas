{
 "cells": [
  {
   "cell_type": "code",
   "execution_count": 1,
   "id": "82b35f49",
   "metadata": {},
   "outputs": [],
   "source": [
    "import numpy as np\n",
    "import matplotlib.pyplot as plt"
   ]
  },
  {
   "cell_type": "code",
   "execution_count": 2,
   "id": "10bee724",
   "metadata": {},
   "outputs": [],
   "source": [
    "data = np.array([1,2,1,2,1,2,2,2,2,2,1,1,1,2,1,2,2,1,1,2,2,2,1,1,2,1,2,1,2,1,2,1,1,2,1,2,1,2,1,2,2,3,3,3,3,3,3,3])"
   ]
  },
  {
   "cell_type": "code",
   "execution_count": 4,
   "id": "1d726051",
   "metadata": {},
   "outputs": [
    {
     "data": {
      "text/plain": [
       "array([1.5, 2.5, 3.5])"
      ]
     },
     "execution_count": 4,
     "metadata": {},
     "output_type": "execute_result"
    }
   ],
   "source": [
    "x = np.linspace(1,4,4)\n",
    "H, bins = np.histogram(data,bins=x)\n",
    "w = np.diff(bins)\n",
    "m = bins[:-1] + 0.5*w[0] # Marca de Clase\n",
    "m"
   ]
  },
  {
   "cell_type": "code",
   "execution_count": 5,
   "id": "e8b854ac",
   "metadata": {},
   "outputs": [],
   "source": [
    "HNorm = H/np.sum(H*w)"
   ]
  },
  {
   "cell_type": "code",
   "execution_count": 8,
   "id": "53a77b33",
   "metadata": {},
   "outputs": [
    {
     "data": {
      "text/plain": [
       "(0, 0.6)"
      ]
     },
     "execution_count": 8,
     "metadata": {},
     "output_type": "execute_result"
    },
    {
     "data": {
      "image/png": "[encoded data removed]",
      "text/plain": [
       "<Figure size 432x288 with 1 Axes>"
      ]
     },
     "metadata": {
      "needs_background": "light"
     },
     "output_type": "display_data"
    }
   ],
   "source": [
    "plt.bar(m,HNorm,width=w,ec='k')\n",
    "plt.ylim(0,0.6)"
   ]
  },
  {
   "cell_type": "code",
   "execution_count": null,
   "id": "7e0269a8",
   "metadata": {},
   "outputs": [],
   "source": []
  }
 ],
 "metadata": {
  "kernelspec": {
   "display_name": "Python 3",
   "language": "python",
   "name": "python3"
  },
  "language_info": {
   "codemirror_mode": {
    "name": "ipython",
    "version": 3
   },
   "file_extension": ".py",
   "mimetype": "text/x-python",
   "name": "python",
   "nbconvert_exporter": "python",
   "pygments_lexer": "ipython3",
   "version": "3.8.2"
  }
 },
 "nbformat": 4,
 "nbformat_minor": 5
}
