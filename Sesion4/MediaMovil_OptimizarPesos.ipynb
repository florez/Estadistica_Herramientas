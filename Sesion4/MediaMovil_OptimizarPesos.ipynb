{
 "cells": [
  {
   "cell_type": "code",
   "execution_count": 1,
   "id": "2ac2ba29",
   "metadata": {},
   "outputs": [],
   "source": [
    "import numpy as np\n",
    "import pandas as pd \n",
    "import matplotlib.pyplot as plt\n",
    "import os.path as path\n",
    "import wget\n",
    "import scipy.optimize as optimize\n",
    "import scipy"
   ]
  },
  {
   "cell_type": "code",
   "execution_count": 2,
   "id": "5a31bf5e",
   "metadata": {},
   "outputs": [
    {
     "data": {
      "text/plain": [
       "'1.8.0'"
      ]
     },
     "execution_count": 2,
     "metadata": {},
     "output_type": "execute_result"
    }
   ],
   "source": [
    "scipy.__version__"
   ]
  },
  {
   "cell_type": "code",
   "execution_count": 3,
   "id": "ddb47464",
   "metadata": {},
   "outputs": [],
   "source": [
    "file = 'MediaMovilData.csv'\n",
    "url = 'https://raw.githubusercontent.com/asegura4488/Database/main/MetodosComputacionales/ventas.csv'\n",
    "if not path.exists(file):\n",
    "    Path_ = wget.download(url,file)\n",
    "else:\n",
    "    Path_ = file"
   ]
  },
  {
   "cell_type": "code",
   "execution_count": 4,
   "id": "dab9454c",
   "metadata": {},
   "outputs": [],
   "source": [
    "data = pd.read_csv(Path_)"
   ]
  },
  {
   "cell_type": "code",
   "execution_count": 5,
   "id": "8c48b401",
   "metadata": {},
   "outputs": [
    {
     "data": {
      "text/plain": [
       "0     1250\n",
       "1     1150\n",
       "2      970\n",
       "3     1100\n",
       "4     1170\n",
       "5     1080\n",
       "6     1120\n",
       "7     1230\n",
       "8     1210\n",
       "9     1050\n",
       "10    1030\n",
       "11     990\n",
       "12    1160\n",
       "13    1200\n",
       "14    1180\n",
       "15    1260\n",
       "16    1230\n",
       "17    1190\n",
       "Name: Ventas, dtype: int64"
      ]
     },
     "execution_count": 5,
     "metadata": {},
     "output_type": "execute_result"
    }
   ],
   "source": [
    "x = data.Ventas\n",
    "x"
   ]
  },
  {
   "cell_type": "code",
   "execution_count": 6,
   "id": "7a39298e",
   "metadata": {},
   "outputs": [],
   "source": [
    "def GetMediaMovil(x,n):\n",
    "    \n",
    "    \n",
    "    media = np.zeros(x.shape[0]+1)\n",
    "    # El último es la prediccion\n",
    "    \n",
    "    \n",
    "    for i in range(len(x)+1):\n",
    "        \n",
    "        sum_ = 0.\n",
    "        \n",
    "        if i >= n:\n",
    "            \n",
    "            for j in range(i-n,i):\n",
    "                sum_ += x[j]\n",
    "                \n",
    "            media[i] = sum_/n\n",
    "  \n",
    "        else:\n",
    "            media[i] = x[i]\n",
    "    \n",
    "\n",
    "        \n",
    "        \n",
    "                              \n",
    "    return media"
   ]
  },
  {
   "cell_type": "code",
   "execution_count": 7,
   "id": "ea46f71a",
   "metadata": {},
   "outputs": [],
   "source": [
    "def GetWeightedMediaMovil(x,n,w):\n",
    "    \n",
    "    \n",
    "    media = np.zeros(x.shape[0]+1)\n",
    "    # El último es la prediccion\n",
    "    \n",
    "    \n",
    "    for i in range(len(x)+1):\n",
    "        \n",
    "        sum_ = 0.\n",
    "        \n",
    "        if i >= n:\n",
    "            \n",
    "            kk = 0\n",
    "            for j in range(i-n,i):\n",
    "                sum_ += x[j]*w[kk]\n",
    "                kk += 1\n",
    "                \n",
    "            media[i] = sum_\n",
    "  \n",
    "        else:\n",
    "            media[i] = x[i]\n",
    "    \n",
    "                              \n",
    "    return media"
   ]
  },
  {
   "cell_type": "code",
   "execution_count": 8,
   "id": "09e98d7a",
   "metadata": {},
   "outputs": [],
   "source": [
    "media = GetMediaMovil(x,3)"
   ]
  },
  {
   "cell_type": "code",
   "execution_count": 9,
   "id": "f0af15c9",
   "metadata": {},
   "outputs": [],
   "source": [
    "w = np.array([0.2,0.2,0.6])\n",
    "weightedmedia = GetWeightedMediaMovil(x,3,w)"
   ]
  },
  {
   "cell_type": "code",
   "execution_count": 10,
   "id": "1fabf332",
   "metadata": {},
   "outputs": [
    {
     "name": "stdout",
     "output_type": "stream",
     "text": [
      "[1250.         1150.          970.         1123.33333333 1073.33333333\n",
      " 1080.         1116.66666667 1123.33333333 1143.33333333 1186.66666667\n",
      " 1163.33333333 1096.66666667 1023.33333333 1060.         1116.66666667\n",
      " 1180.         1213.33333333 1223.33333333 1226.66666667]\n"
     ]
    }
   ],
   "source": [
    "print(media)"
   ]
  },
  {
   "cell_type": "code",
   "execution_count": 11,
   "id": "a657a826",
   "metadata": {},
   "outputs": [
    {
     "name": "stdout",
     "output_type": "stream",
     "text": [
      "[1250. 1150.  970. 1062. 1084. 1116. 1102. 1122. 1178. 1196. 1118. 1070.\n",
      " 1010. 1100. 1150. 1180. 1232. 1226. 1212.]\n"
     ]
    }
   ],
   "source": [
    "print(weightedmedia)"
   ]
  },
  {
   "cell_type": "code",
   "execution_count": 12,
   "id": "55b2ee74",
   "metadata": {},
   "outputs": [
    {
     "data": {
      "text/plain": [
       "<matplotlib.legend.Legend at 0x7f024c731f70>"
      ]
     },
     "execution_count": 12,
     "metadata": {},
     "output_type": "execute_result"
    },
    {
     "data": {
      "image/png": "[encoded data removed]",
      "text/plain": [
       "<Figure size 432x288 with 1 Axes>"
      ]
     },
     "metadata": {
      "needs_background": "light"
     },
     "output_type": "display_data"
    }
   ],
   "source": [
    "plt.plot(x)\n",
    "plt.plot(media, label='Media movil simple')\n",
    "plt.plot(weightedmedia, label='Media movil ponderada')\n",
    "plt.legend()"
   ]
  },
  {
   "cell_type": "code",
   "execution_count": 13,
   "id": "501817c7",
   "metadata": {},
   "outputs": [],
   "source": [
    "def GetError(x,y):\n",
    "    \n",
    "    error = np.array([])\n",
    "    \n",
    "    for i in range(x.shape[0]):\n",
    "        error = np.append(error, np.abs(x[i]-y[i]))\n",
    "    \n",
    "    return error, np.mean(error)"
   ]
  },
  {
   "cell_type": "code",
   "execution_count": 14,
   "id": "40765ab4",
   "metadata": {},
   "outputs": [
    {
     "name": "stdout",
     "output_type": "stream",
     "text": [
      "63.518518518518526\n"
     ]
    }
   ],
   "source": [
    "err1,meane = GetError(x,media)\n",
    "print(meane)"
   ]
  },
  {
   "cell_type": "code",
   "execution_count": 15,
   "id": "c743cbde",
   "metadata": {},
   "outputs": [
    {
     "name": "stdout",
     "output_type": "stream",
     "text": [
      "57.22222222222222\n"
     ]
    }
   ],
   "source": [
    "err2,meane2 = GetError(x,weightedmedia)\n",
    "print(meane2)"
   ]
  },
  {
   "cell_type": "code",
   "execution_count": 16,
   "id": "20503585",
   "metadata": {},
   "outputs": [],
   "source": [
    "# Encontrando el conjunto de pesos que mínimize el error\n",
    "\n",
    "def Root(w):\n",
    "     \n",
    "    weightedmedia = GetWeightedMediaMovil(x,3,w)\n",
    "    Error1, MeanError = GetError(x,weightedmedia)\n",
    "    return MeanError"
   ]
  },
  {
   "cell_type": "code",
   "execution_count": 17,
   "id": "8f93dacb",
   "metadata": {},
   "outputs": [],
   "source": [
    "cons = ({'type':'eq','func':lambda w: w[0]+w[1]+w[2]-1})"
   ]
  },
  {
   "cell_type": "code",
   "execution_count": 22,
   "id": "67a09641",
   "metadata": {},
   "outputs": [],
   "source": [
    "result = optimize.minimize(Root,(0.2,0.4,0.6),bounds=((0.,1.),(0.,1.),(0.,1.)),constraints=cons,method='TNC', tol = 1e-6)"
   ]
  },
  {
   "cell_type": "code",
   "execution_count": 23,
   "id": "61f742aa",
   "metadata": {},
   "outputs": [
    {
     "data": {
      "text/plain": [
       "     fun: 49.82506263763847\n",
       "     jac: array([86.05542097, 92.16652899, 71.05541719])\n",
       " message: 'Max. number of function evaluations reached'\n",
       "    nfev: 404\n",
       "     nit: 6\n",
       "  status: 3\n",
       " success: False\n",
       "       x: array([0.36733991, 0.        , 0.66119748])"
      ]
     },
     "execution_count": 23,
     "metadata": {},
     "output_type": "execute_result"
    }
   ],
   "source": [
    "result"
   ]
  },
  {
   "cell_type": "code",
   "execution_count": 24,
   "id": "93701284",
   "metadata": {},
   "outputs": [
    {
     "name": "stdout",
     "output_type": "stream",
     "text": [
      "[0.36733991 0.         0.66119748] 1.0285373872944104\n"
     ]
    }
   ],
   "source": [
    "w1 = result.x\n",
    "print(w1, np.sum(w1))"
   ]
  },
  {
   "cell_type": "code",
   "execution_count": 25,
   "id": "e14da2ea",
   "metadata": {},
   "outputs": [
    {
     "name": "stdout",
     "output_type": "stream",
     "text": [
      "49.82506263763847\n"
     ]
    }
   ],
   "source": [
    "weightedmedia = GetWeightedMediaMovil(x,3,w1)\n",
    "Error1, MeanError = GetError(x,weightedmedia)\n",
    "print(MeanError)"
   ]
  },
  {
   "cell_type": "code",
   "execution_count": 26,
   "id": "a3527c98",
   "metadata": {
    "scrolled": true
   },
   "outputs": [
    {
     "name": "stdout",
     "output_type": "stream",
     "text": [
      "[0.22683816 0.38256167 0.37534116] 0.9847409860142089\n",
      "65.9980059973099\n",
      "[1.38926665e-09 1.20364625e-01 8.74139524e-01] 0.9945041495368329\n",
      "57.94419542614193\n",
      "[0.16454363 0.46918288 0.36116484] 0.9948913562864152\n",
      "[0.36509418 0.18555586 0.44354953] 0.9941995616040666\n",
      "[0.45524936 0.10754346 0.41985909] 0.9826519137559696\n",
      "[0.37817095 0.13705862 0.48419468] 0.9994242530794957\n",
      "57.06721412789141\n",
      "[0.16158258 0.55556549 0.26713553] 0.9842835976306854\n",
      "[0.1582702  0.48806478 0.35143067] 0.9977656497643503\n",
      "[0.43126794 0.10494753 0.45384063] 0.9900561022630805\n"
     ]
    }
   ],
   "source": [
    "# Optimizing\n",
    "error = 1000\n",
    "\n",
    "for i in range(100):\n",
    "    \n",
    "    a = np.random.rand()\n",
    "    b = np.random.rand()\n",
    "    c = np.abs(1 - a - b)\n",
    "    \n",
    "    result = optimize.minimize(Root,(a,b,c),bounds=((0.,1.),(0.,1.),(0.,1.)),constraints=cons,method='TNC',tol = 1e-8)\n",
    "    w1 = result.x\n",
    "    if np.sum(w1) <= 1.0:\n",
    "        print(w1, np.sum(w1)) \n",
    "        weightedmedia = GetWeightedMediaMovil(x,3,w1)\n",
    "        Error1, MeanError = GetError(x,weightedmedia)\n",
    "        if MeanError < error:\n",
    "            error = MeanError\n",
    "            optimalw = w1\n",
    "            print(MeanError)"
   ]
  },
  {
   "cell_type": "code",
   "execution_count": 28,
   "id": "6f77df4c",
   "metadata": {},
   "outputs": [
    {
     "name": "stdout",
     "output_type": "stream",
     "text": [
      "[0.37817095 0.13705862 0.48419468]\n"
     ]
    }
   ],
   "source": [
    "np.sum(optimalw)\n",
    "print(optimalw)"
   ]
  },
  {
   "cell_type": "code",
   "execution_count": 29,
   "id": "b64d074a",
   "metadata": {},
   "outputs": [
    {
     "name": "stdout",
     "output_type": "stream",
     "text": [
      "57.06721412789141\n"
     ]
    }
   ],
   "source": [
    "weightedmediaopt = GetWeightedMediaMovil(x,3,optimalw)\n",
    "Error1, MeanError = GetError(x,weightedmediaopt)\n",
    "print(MeanError)"
   ]
  },
  {
   "cell_type": "code",
   "execution_count": 28,
   "id": "db29f010",
   "metadata": {},
   "outputs": [
    {
     "name": "stdout",
     "output_type": "stream",
     "text": [
      "59.22222222222222\n"
     ]
    }
   ],
   "source": [
    "weightedmediap = GetWeightedMediaMovil(x,3,[0.2,0.3,0.5])\n",
    "Error1, MeanError = GetError(x,weightedmediap)\n",
    "print(MeanError)"
   ]
  },
  {
   "cell_type": "code",
   "execution_count": 29,
   "id": "bf594915",
   "metadata": {},
   "outputs": [
    {
     "data": {
      "text/plain": [
       "<matplotlib.legend.Legend at 0x7faa22b752e0>"
      ]
     },
     "execution_count": 29,
     "metadata": {},
     "output_type": "execute_result"
    },
    {
     "data": {
      "image/png": "[encoded data removed]",
      "text/plain": [
       "<Figure size 432x288 with 1 Axes>"
      ]
     },
     "metadata": {
      "needs_background": "light"
     },
     "output_type": "display_data"
    }
   ],
   "source": [
    "plt.plot(x)\n",
    "plt.plot(media, label='Media movil simple')\n",
    "plt.plot(weightedmediap, label='Media movil ponderada')\n",
    "plt.plot(weightedmediaopt, label='Media movil ponderada optima')\n",
    "plt.legend()"
   ]
  },
  {
   "cell_type": "code",
   "execution_count": 51,
   "id": "ebae7d7c",
   "metadata": {},
   "outputs": [
    {
     "name": "stdout",
     "output_type": "stream",
     "text": [
      "1226.6666666666667 1216.0 1190.2515501203638\n"
     ]
    }
   ],
   "source": [
    "print(media[-1],weightedmediap[-1],weightedmediaopt[-1])"
   ]
  },
  {
   "cell_type": "code",
   "execution_count": null,
   "id": "4cade75d",
   "metadata": {},
   "outputs": [],
   "source": []
  }
 ],
 "metadata": {
  "kernelspec": {
   "display_name": "Python 3",
   "language": "python",
   "name": "python3"
  },
  "language_info": {
   "codemirror_mode": {
    "name": "ipython",
    "version": 3
   },
   "file_extension": ".py",
   "mimetype": "text/x-python",
   "name": "python",
   "nbconvert_exporter": "python",
   "pygments_lexer": "ipython3",
   "version": "3.8.2"
  }
 },
 "nbformat": 4,
 "nbformat_minor": 5
}
