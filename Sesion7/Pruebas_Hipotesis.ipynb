{
 "cells": [
  {
   "cell_type": "code",
   "execution_count": 17,
   "id": "187033cc",
   "metadata": {},
   "outputs": [],
   "source": [
    "import numpy as np\n",
    "import pandas as pd \n",
    "import matplotlib.pyplot as plt\n",
    "\n",
    "from scipy.stats import binom\n",
    "from scipy.stats import poisson\n",
    "from scipy.stats import chi2\n",
    "from scipy.stats import norm"
   ]
  },
  {
   "cell_type": "code",
   "execution_count": 29,
   "id": "6361ac63",
   "metadata": {},
   "outputs": [],
   "source": [
    "mu = 1000\n",
    "mean = 950\n",
    "sigma = 40\n",
    "n = 40"
   ]
  },
  {
   "cell_type": "code",
   "execution_count": 31,
   "id": "7b035e0d",
   "metadata": {},
   "outputs": [
    {
     "data": {
      "text/plain": [
       "-7.905694150420949"
      ]
     },
     "execution_count": 31,
     "metadata": {},
     "output_type": "execute_result"
    }
   ],
   "source": [
    "z = (mean-mu)/(sigma/np.sqrt(n))\n",
    "z"
   ]
  },
  {
   "cell_type": "code",
   "execution_count": 47,
   "id": "8df50e4e",
   "metadata": {},
   "outputs": [],
   "source": [
    "lower = norm.ppf(0.05,loc=mu, scale=sigma )\n",
    "upper = norm.ppf(0.95,loc=mu, scale=sigma )"
   ]
  },
  {
   "cell_type": "code",
   "execution_count": 51,
   "id": "e48e4f88",
   "metadata": {},
   "outputs": [],
   "source": [
    "lower2 = norm.ppf(0.025,loc=mu, scale=sigma )\n",
    "upper2 = norm.ppf(0.975,loc=mu, scale=sigma )"
   ]
  },
  {
   "cell_type": "code",
   "execution_count": 48,
   "id": "7e66cc11",
   "metadata": {},
   "outputs": [
    {
     "data": {
      "text/plain": [
       "0.10564977366685535"
      ]
     },
     "execution_count": 48,
     "metadata": {},
     "output_type": "execute_result"
    }
   ],
   "source": [
    "norm.cdf( mean, loc=mu, scale=sigma )"
   ]
  },
  {
   "cell_type": "code",
   "execution_count": 54,
   "id": "63c3d78b",
   "metadata": {},
   "outputs": [
    {
     "data": {
      "text/plain": [
       "<matplotlib.legend.Legend at 0x7f75ddfb47f0>"
      ]
     },
     "execution_count": 54,
     "metadata": {},
     "output_type": "execute_result"
    },
    {
     "data": {
      "image/png": "[encoded data removed]",
      "text/plain": [
       "<Figure size 432x288 with 1 Axes>"
      ]
     },
     "metadata": {
      "needs_background": "light"
     },
     "output_type": "display_data"
    }
   ],
   "source": [
    "x = np.linspace(800,1200,100)\n",
    "plt.plot( x, norm.pdf( x, loc=mu, scale=sigma ), label='Hipotesis nula' )\n",
    "#plt.plot( x, norm.pdf( x, loc=mean, scale=sigma ) )\n",
    "plt.axvline(x=mean,color='k',label='Observado')\n",
    "plt.axvline(x=lower,color='r',label='punto critico minimo')\n",
    "plt.axvline(x=upper,color='r',label='punto critico maximo')\n",
    "\n",
    "plt.axvline(x=lower2,color='g',label='punto critico minimo 2 colas')\n",
    "plt.axvline(x=upper2,color='g',label='punto critico maximo 2 colas')\n",
    "\n",
    "#plt.yscale('log')\n",
    "plt.legend(loc=1)"
   ]
  },
  {
   "cell_type": "markdown",
   "id": "426c7a94",
   "metadata": {},
   "source": [
    "# Bondad de ajuste"
   ]
  },
  {
   "cell_type": "code",
   "execution_count": 56,
   "id": "b62956f3",
   "metadata": {},
   "outputs": [
    {
     "data": {
      "text/plain": [
       "array([[0., 0., 0.],\n",
       "       [0., 0., 0.],\n",
       "       [0., 0., 0.]])"
      ]
     },
     "execution_count": 56,
     "metadata": {},
     "output_type": "execute_result"
    }
   ],
   "source": [
    "fo = np.zeros((3,3))\n",
    "fo"
   ]
  },
  {
   "cell_type": "code",
   "execution_count": 59,
   "id": "93053323",
   "metadata": {},
   "outputs": [],
   "source": [
    "fo[0,0] = 38\n",
    "fo[0,1] = 55\n",
    "fo[0,2] = 52\n",
    "fo[1,0] = 39\n",
    "fo[1,1] = 65\n",
    "fo[1,2] = 55\n",
    "fo[2,0] = 43\n",
    "fo[2,1] = 60\n",
    "fo[2,2] = 63"
   ]
  },
  {
   "cell_type": "code",
   "execution_count": 60,
   "id": "e533a9c2",
   "metadata": {},
   "outputs": [
    {
     "data": {
      "text/plain": [
       "array([[38., 55., 52.],\n",
       "       [39., 65., 55.],\n",
       "       [43., 60., 63.]])"
      ]
     },
     "execution_count": 60,
     "metadata": {},
     "output_type": "execute_result"
    }
   ],
   "source": [
    "fo"
   ]
  },
  {
   "cell_type": "code",
   "execution_count": 61,
   "id": "b3684f5a",
   "metadata": {},
   "outputs": [
    {
     "name": "stdout",
     "output_type": "stream",
     "text": [
      "470.0\n"
     ]
    }
   ],
   "source": [
    "N = np.sum(fo)\n",
    "print(N)"
   ]
  },
  {
   "cell_type": "code",
   "execution_count": 72,
   "id": "233f1bfd",
   "metadata": {},
   "outputs": [],
   "source": [
    "# Calcular marginales\n",
    "g = np.sum( fo, axis=0 ) # sumar filas\n",
    "h = np.sum( fo, axis=1) # sumar columnas"
   ]
  },
  {
   "cell_type": "code",
   "execution_count": 69,
   "id": "2f8abe57",
   "metadata": {},
   "outputs": [],
   "source": [
    "# Calcular probabilidades \"Observadas\""
   ]
  },
  {
   "cell_type": "code",
   "execution_count": 74,
   "id": "a2f4e344",
   "metadata": {},
   "outputs": [],
   "source": [
    "g /= N\n",
    "h /= N"
   ]
  },
  {
   "cell_type": "code",
   "execution_count": 75,
   "id": "3b9c6ba2",
   "metadata": {},
   "outputs": [
    {
     "data": {
      "text/plain": [
       "array([0.25531915, 0.38297872, 0.36170213])"
      ]
     },
     "execution_count": 75,
     "metadata": {},
     "output_type": "execute_result"
    }
   ],
   "source": [
    "g"
   ]
  },
  {
   "cell_type": "code",
   "execution_count": 76,
   "id": "ca550374",
   "metadata": {},
   "outputs": [
    {
     "data": {
      "text/plain": [
       "array([0.30851064, 0.33829787, 0.35319149])"
      ]
     },
     "execution_count": 76,
     "metadata": {},
     "output_type": "execute_result"
    }
   ],
   "source": [
    "h"
   ]
  },
  {
   "cell_type": "code",
   "execution_count": 77,
   "id": "571fd70c",
   "metadata": {},
   "outputs": [
    {
     "data": {
      "text/plain": [
       "array([[0., 0., 0.],\n",
       "       [0., 0., 0.],\n",
       "       [0., 0., 0.]])"
      ]
     },
     "execution_count": 77,
     "metadata": {},
     "output_type": "execute_result"
    }
   ],
   "source": [
    "po = np.zeros_like(fo)\n",
    "po"
   ]
  },
  {
   "cell_type": "code",
   "execution_count": 78,
   "id": "4cc077b0",
   "metadata": {},
   "outputs": [],
   "source": [
    "for i in range(3):\n",
    "    for j in range(3):\n",
    "        po[i,j] = h[i]*g[j]  # Las variables son independientes Ho"
   ]
  },
  {
   "cell_type": "code",
   "execution_count": 79,
   "id": "cf090cd4",
   "metadata": {},
   "outputs": [
    {
     "data": {
      "text/plain": [
       "array([[0.07876867, 0.11815301, 0.11158895],\n",
       "       [0.08637392, 0.12956089, 0.12236306],\n",
       "       [0.09017655, 0.13526483, 0.12775011]])"
      ]
     },
     "execution_count": 79,
     "metadata": {},
     "output_type": "execute_result"
    }
   ],
   "source": [
    "po"
   ]
  },
  {
   "cell_type": "code",
   "execution_count": 80,
   "id": "d84ffa52",
   "metadata": {},
   "outputs": [],
   "source": [
    "# Frecuencias esperadas"
   ]
  },
  {
   "cell_type": "code",
   "execution_count": 81,
   "id": "de2a80ad",
   "metadata": {},
   "outputs": [
    {
     "data": {
      "text/plain": [
       "array([[37.0212766 , 55.53191489, 52.44680851],\n",
       "       [40.59574468, 60.89361702, 57.5106383 ],\n",
       "       [42.38297872, 63.57446809, 60.04255319]])"
      ]
     },
     "execution_count": 81,
     "metadata": {},
     "output_type": "execute_result"
    }
   ],
   "source": [
    "fe = po*N\n",
    "fe"
   ]
  },
  {
   "cell_type": "code",
   "execution_count": 82,
   "id": "04b45d4e",
   "metadata": {},
   "outputs": [
    {
     "data": {
      "text/plain": [
       "array([[38., 55., 52.],\n",
       "       [39., 65., 55.],\n",
       "       [43., 60., 63.]])"
      ]
     },
     "execution_count": 82,
     "metadata": {},
     "output_type": "execute_result"
    }
   ],
   "source": [
    "fo"
   ]
  },
  {
   "cell_type": "code",
   "execution_count": 84,
   "id": "4d8610be",
   "metadata": {},
   "outputs": [],
   "source": [
    "def GetChi2(fo,fe):\n",
    "    \n",
    "    diff = fo - fe\n",
    "    \n",
    "    m = diff**2/fe\n",
    "    \n",
    "    return np.sum(m)"
   ]
  },
  {
   "cell_type": "code",
   "execution_count": 86,
   "id": "7b2ebb69",
   "metadata": {},
   "outputs": [
    {
     "data": {
      "text/plain": [
       "0.8396477840721925"
      ]
     },
     "execution_count": 86,
     "metadata": {},
     "output_type": "execute_result"
    }
   ],
   "source": [
    "Chi2 = GetChi2(fo,fe)\n",
    "Chi2"
   ]
  },
  {
   "cell_type": "code",
   "execution_count": 88,
   "id": "c5bcef32",
   "metadata": {},
   "outputs": [],
   "source": [
    "df = 4"
   ]
  },
  {
   "cell_type": "code",
   "execution_count": 94,
   "id": "e6d5234a",
   "metadata": {},
   "outputs": [],
   "source": [
    "x = np.linspace(0,20,100)\n",
    "y = chi2.pdf(x, df=df)"
   ]
  },
  {
   "cell_type": "code",
   "execution_count": 98,
   "id": "17f20cc4",
   "metadata": {},
   "outputs": [
    {
     "data": {
      "text/plain": [
       "9.487729036781154"
      ]
     },
     "execution_count": 98,
     "metadata": {},
     "output_type": "execute_result"
    }
   ],
   "source": [
    "valorcritico = chi2.ppf( 0.95, df=df)\n",
    "valorcritico"
   ]
  },
  {
   "cell_type": "code",
   "execution_count": 100,
   "id": "60b66fd9",
   "metadata": {},
   "outputs": [
    {
     "data": {
      "text/plain": [
       "<matplotlib.lines.Line2D at 0x7f75ddcf6730>"
      ]
     },
     "execution_count": 100,
     "metadata": {},
     "output_type": "execute_result"
    },
    {
     "data": {
      "image/png": "[encoded data removed]",
      "text/plain": [
       "<Figure size 432x288 with 1 Axes>"
      ]
     },
     "metadata": {
      "needs_background": "light"
     },
     "output_type": "display_data"
    }
   ],
   "source": [
    "plt.plot(x,y)\n",
    "plt.axvline(x = valorcritico, color='r',label='Valor critico')\n",
    "plt.axvline(x = Chi2, color='k', label='Valor observado')"
   ]
  },
  {
   "cell_type": "code",
   "execution_count": null,
   "id": "f7f25fa3",
   "metadata": {},
   "outputs": [],
   "source": []
  },
  {
   "cell_type": "code",
   "execution_count": 5,
   "id": "ebedf179",
   "metadata": {},
   "outputs": [],
   "source": [
    "df = pd.read_csv('../Data/Sesion7/Binomial.csv')"
   ]
  },
  {
   "cell_type": "code",
   "execution_count": 6,
   "id": "d525af28",
   "metadata": {},
   "outputs": [
    {
     "data": {
      "text/html": [
       "<div>\n",
       "<style scoped>\n",
       "    .dataframe tbody tr th:only-of-type {\n",
       "        vertical-align: middle;\n",
       "    }\n",
       "\n",
       "    .dataframe tbody tr th {\n",
       "        vertical-align: top;\n",
       "    }\n",
       "\n",
       "    .dataframe thead th {\n",
       "        text-align: right;\n",
       "    }\n",
       "</style>\n",
       "<table border=\"1\" class=\"dataframe\">\n",
       "  <thead>\n",
       "    <tr style=\"text-align: right;\">\n",
       "      <th></th>\n",
       "      <th>NCaras</th>\n",
       "      <th>ObsFreq</th>\n",
       "    </tr>\n",
       "  </thead>\n",
       "  <tbody>\n",
       "    <tr>\n",
       "      <th>0</th>\n",
       "      <td>0</td>\n",
       "      <td>38</td>\n",
       "    </tr>\n",
       "    <tr>\n",
       "      <th>1</th>\n",
       "      <td>1</td>\n",
       "      <td>143</td>\n",
       "    </tr>\n",
       "    <tr>\n",
       "      <th>2</th>\n",
       "      <td>2</td>\n",
       "      <td>343</td>\n",
       "    </tr>\n",
       "    <tr>\n",
       "      <th>3</th>\n",
       "      <td>3</td>\n",
       "      <td>285</td>\n",
       "    </tr>\n",
       "    <tr>\n",
       "      <th>4</th>\n",
       "      <td>4</td>\n",
       "      <td>166</td>\n",
       "    </tr>\n",
       "    <tr>\n",
       "      <th>5</th>\n",
       "      <td>5</td>\n",
       "      <td>25</td>\n",
       "    </tr>\n",
       "  </tbody>\n",
       "</table>\n",
       "</div>"
      ],
      "text/plain": [
       "   NCaras  ObsFreq\n",
       "0       0       38\n",
       "1       1      143\n",
       "2       2      343\n",
       "3       3      285\n",
       "4       4      166\n",
       "5       5       25"
      ]
     },
     "execution_count": 6,
     "metadata": {},
     "output_type": "execute_result"
    }
   ],
   "source": [
    "df"
   ]
  },
  {
   "cell_type": "code",
   "execution_count": null,
   "id": "b027ffff",
   "metadata": {},
   "outputs": [],
   "source": []
  }
 ],
 "metadata": {
  "kernelspec": {
   "display_name": "Python 3",
   "language": "python",
   "name": "python3"
  },
  "language_info": {
   "codemirror_mode": {
    "name": "ipython",
    "version": 3
   },
   "file_extension": ".py",
   "mimetype": "text/x-python",
   "name": "python",
   "nbconvert_exporter": "python",
   "pygments_lexer": "ipython3",
   "version": "3.8.2"
  }
 },
 "nbformat": 4,
 "nbformat_minor": 5
}
