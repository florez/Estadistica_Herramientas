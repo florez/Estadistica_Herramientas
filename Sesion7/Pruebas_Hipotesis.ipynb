{
 "cells": [
  {
   "cell_type": "code",
   "execution_count": 17,
   "id": "4472cc65",
   "metadata": {},
   "outputs": [],
   "source": [
    "import numpy as np\n",
    "import pandas as pd \n",
    "import matplotlib.pyplot as plt\n",
    "\n",
    "from scipy.stats import binom\n",
    "from scipy.stats import poisson\n",
    "from scipy.stats import chi2\n",
    "from scipy.stats import norm"
   ]
  },
  {
   "cell_type": "code",
   "execution_count": 29,
   "id": "793668c3",
   "metadata": {},
   "outputs": [],
   "source": [
    "mu = 1000\n",
    "mean = 950\n",
    "sigma = 40\n",
    "n = 40"
   ]
  },
  {
   "cell_type": "code",
   "execution_count": 31,
   "id": "b46fc328",
   "metadata": {},
   "outputs": [
    {
     "data": {
      "text/plain": [
       "-7.905694150420949"
      ]
     },
     "execution_count": 31,
     "metadata": {},
     "output_type": "execute_result"
    }
   ],
   "source": [
    "z = (mean-mu)/(sigma/np.sqrt(n))\n",
    "z"
   ]
  },
  {
   "cell_type": "code",
   "execution_count": 47,
   "id": "cf90c823",
   "metadata": {},
   "outputs": [],
   "source": [
    "lower = norm.ppf(0.05,loc=mu, scale=sigma )\n",
    "upper = norm.ppf(0.95,loc=mu, scale=sigma )"
   ]
  },
  {
   "cell_type": "code",
   "execution_count": 51,
   "id": "3b6eedbd",
   "metadata": {},
   "outputs": [],
   "source": [
    "lower2 = norm.ppf(0.025,loc=mu, scale=sigma )\n",
    "upper2 = norm.ppf(0.975,loc=mu, scale=sigma )"
   ]
  },
  {
   "cell_type": "code",
   "execution_count": 48,
   "id": "574d58de",
   "metadata": {},
   "outputs": [
    {
     "data": {
      "text/plain": [
       "0.10564977366685535"
      ]
     },
     "execution_count": 48,
     "metadata": {},
     "output_type": "execute_result"
    }
   ],
   "source": [
    "norm.cdf( mean, loc=mu, scale=sigma )"
   ]
  },
  {
   "cell_type": "code",
   "execution_count": 54,
   "id": "c5462311",
   "metadata": {},
   "outputs": [
    {
     "data": {
      "text/plain": [
       "<matplotlib.legend.Legend at 0x7f75ddfb47f0>"
      ]
     },
     "execution_count": 54,
     "metadata": {},
     "output_type": "execute_result"
    },
    {
     "data": {
      "image/png": "[encoded data removed]",
      "text/plain": [
       "<Figure size 432x288 with 1 Axes>"
      ]
     },
     "metadata": {
      "needs_background": "light"
     },
     "output_type": "display_data"
    }
   ],
   "source": [
    "x = np.linspace(800,1200,100)\n",
    "plt.plot( x, norm.pdf( x, loc=mu, scale=sigma ), label='Hipotesis nula' )\n",
    "#plt.plot( x, norm.pdf( x, loc=mean, scale=sigma ) )\n",
    "plt.axvline(x=mean,color='k',label='Observado')\n",
    "plt.axvline(x=lower,color='r',label='punto critico minimo')\n",
    "plt.axvline(x=upper,color='r',label='punto critico maximo')\n",
    "\n",
    "plt.axvline(x=lower2,color='g',label='punto critico minimo 2 colas')\n",
    "plt.axvline(x=upper2,color='g',label='punto critico maximo 2 colas')\n",
    "\n",
    "#plt.yscale('log')\n",
    "plt.legend(loc=1)"
   ]
  },
  {
   "cell_type": "markdown",
   "id": "554a085e",
   "metadata": {},
   "source": [
    "# Bondad de ajuste"
   ]
  },
  {
   "cell_type": "code",
   "execution_count": 56,
   "id": "c721a521",
   "metadata": {},
   "outputs": [
    {
     "data": {
      "text/plain": [
       "array([[0., 0., 0.],\n",
       "       [0., 0., 0.],\n",
       "       [0., 0., 0.]])"
      ]
     },
     "execution_count": 56,
     "metadata": {},
     "output_type": "execute_result"
    }
   ],
   "source": [
    "fo = np.zeros((3,3))\n",
    "fo"
   ]
  },
  {
   "cell_type": "code",
   "execution_count": 59,
   "id": "ed820d16",
   "metadata": {},
   "outputs": [],
   "source": [
    "fo[0,0] = 38\n",
    "fo[0,1] = 55\n",
    "fo[0,2] = 52\n",
    "fo[1,0] = 39\n",
    "fo[1,1] = 65\n",
    "fo[1,2] = 55\n",
    "fo[2,0] = 43\n",
    "fo[2,1] = 60\n",
    "fo[2,2] = 63"
   ]
  },
  {
   "cell_type": "code",
   "execution_count": 60,
   "id": "9b9021ce",
   "metadata": {},
   "outputs": [
    {
     "data": {
      "text/plain": [
       "array([[38., 55., 52.],\n",
       "       [39., 65., 55.],\n",
       "       [43., 60., 63.]])"
      ]
     },
     "execution_count": 60,
     "metadata": {},
     "output_type": "execute_result"
    }
   ],
   "source": [
    "fo"
   ]
  },
  {
   "cell_type": "code",
   "execution_count": 61,
   "id": "13974b6c",
   "metadata": {},
   "outputs": [
    {
     "name": "stdout",
     "output_type": "stream",
     "text": [
      "470.0\n"
     ]
    }
   ],
   "source": [
    "N = np.sum(fo)\n",
    "print(N)"
   ]
  },
  {
   "cell_type": "code",
   "execution_count": 72,
   "id": "a5a2dccc",
   "metadata": {},
   "outputs": [],
   "source": [
    "# Calcular marginales\n",
    "g = np.sum( fo, axis=0 ) # sumar filas\n",
    "h = np.sum( fo, axis=1) # sumar columnas"
   ]
  },
  {
   "cell_type": "code",
   "execution_count": 69,
   "id": "a3266c75",
   "metadata": {},
   "outputs": [],
   "source": [
    "# Calcular probabilidades \"Observadas\""
   ]
  },
  {
   "cell_type": "code",
   "execution_count": 74,
   "id": "bc396d69",
   "metadata": {},
   "outputs": [],
   "source": [
    "g /= N\n",
    "h /= N"
   ]
  },
  {
   "cell_type": "code",
   "execution_count": 75,
   "id": "21c1aa32",
   "metadata": {},
   "outputs": [
    {
     "data": {
      "text/plain": [
       "array([0.25531915, 0.38297872, 0.36170213])"
      ]
     },
     "execution_count": 75,
     "metadata": {},
     "output_type": "execute_result"
    }
   ],
   "source": [
    "g"
   ]
  },
  {
   "cell_type": "code",
   "execution_count": 76,
   "id": "48feaff3",
   "metadata": {},
   "outputs": [
    {
     "data": {
      "text/plain": [
       "array([0.30851064, 0.33829787, 0.35319149])"
      ]
     },
     "execution_count": 76,
     "metadata": {},
     "output_type": "execute_result"
    }
   ],
   "source": [
    "h"
   ]
  },
  {
   "cell_type": "code",
   "execution_count": 77,
   "id": "25f6ddd3",
   "metadata": {},
   "outputs": [
    {
     "data": {
      "text/plain": [
       "array([[0., 0., 0.],\n",
       "       [0., 0., 0.],\n",
       "       [0., 0., 0.]])"
      ]
     },
     "execution_count": 77,
     "metadata": {},
     "output_type": "execute_result"
    }
   ],
   "source": [
    "po = np.zeros_like(fo)\n",
    "po"
   ]
  },
  {
   "cell_type": "code",
   "execution_count": 78,
   "id": "4ccc633c",
   "metadata": {},
   "outputs": [],
   "source": [
    "for i in range(3):\n",
    "    for j in range(3):\n",
    "        po[i,j] = h[i]*g[j]  # Las variables son independientes Ho"
   ]
  },
  {
   "cell_type": "code",
   "execution_count": 79,
   "id": "1f43458c",
   "metadata": {},
   "outputs": [
    {
     "data": {
      "text/plain": [
       "array([[0.07876867, 0.11815301, 0.11158895],\n",
       "       [0.08637392, 0.12956089, 0.12236306],\n",
       "       [0.09017655, 0.13526483, 0.12775011]])"
      ]
     },
     "execution_count": 79,
     "metadata": {},
     "output_type": "execute_result"
    }
   ],
   "source": [
    "po"
   ]
  },
  {
   "cell_type": "code",
   "execution_count": 80,
   "id": "1aeb6e95",
   "metadata": {},
   "outputs": [],
   "source": [
    "# Frecuencias esperadas"
   ]
  },
  {
   "cell_type": "code",
   "execution_count": 81,
   "id": "8761a8bd",
   "metadata": {},
   "outputs": [
    {
     "data": {
      "text/plain": [
       "array([[37.0212766 , 55.53191489, 52.44680851],\n",
       "       [40.59574468, 60.89361702, 57.5106383 ],\n",
       "       [42.38297872, 63.57446809, 60.04255319]])"
      ]
     },
     "execution_count": 81,
     "metadata": {},
     "output_type": "execute_result"
    }
   ],
   "source": [
    "fe = po*N\n",
    "fe"
   ]
  },
  {
   "cell_type": "code",
   "execution_count": 82,
   "id": "4e08e895",
   "metadata": {},
   "outputs": [
    {
     "data": {
      "text/plain": [
       "array([[38., 55., 52.],\n",
       "       [39., 65., 55.],\n",
       "       [43., 60., 63.]])"
      ]
     },
     "execution_count": 82,
     "metadata": {},
     "output_type": "execute_result"
    }
   ],
   "source": [
    "fo"
   ]
  },
  {
   "cell_type": "code",
   "execution_count": 84,
   "id": "10216d83",
   "metadata": {},
   "outputs": [],
   "source": [
    "def GetChi2(fo,fe):\n",
    "    \n",
    "    diff = fo - fe\n",
    "    \n",
    "    m = diff**2/fe\n",
    "    \n",
    "    return np.sum(m)"
   ]
  },
  {
   "cell_type": "code",
   "execution_count": 86,
   "id": "d920ace6",
   "metadata": {},
   "outputs": [
    {
     "data": {
      "text/plain": [
       "0.8396477840721925"
      ]
     },
     "execution_count": 86,
     "metadata": {},
     "output_type": "execute_result"
    }
   ],
   "source": [
    "Chi2 = GetChi2(fo,fe)\n",
    "Chi2"
   ]
  },
  {
   "cell_type": "code",
   "execution_count": 88,
   "id": "48aae708",
   "metadata": {},
   "outputs": [],
   "source": [
    "df = 4"
   ]
  },
  {
   "cell_type": "code",
   "execution_count": 94,
   "id": "73bdd446",
   "metadata": {},
   "outputs": [],
   "source": [
    "x = np.linspace(0,20,100)\n",
    "y = chi2.pdf(x, df=df)"
   ]
  },
  {
   "cell_type": "code",
   "execution_count": 98,
   "id": "dc75fd02",
   "metadata": {},
   "outputs": [
    {
     "data": {
      "text/plain": [
       "9.487729036781154"
      ]
     },
     "execution_count": 98,
     "metadata": {},
     "output_type": "execute_result"
    }
   ],
   "source": [
    "valorcritico = chi2.ppf( 0.95, df=df)\n",
    "valorcritico"
   ]
  },
  {
   "cell_type": "code",
   "execution_count": 100,
   "id": "a401316f",
   "metadata": {},
   "outputs": [
    {
     "data": {
      "text/plain": [
       "<matplotlib.lines.Line2D at 0x7f75ddcf6730>"
      ]
     },
     "execution_count": 100,
     "metadata": {},
     "output_type": "execute_result"
    },
    {
     "data": {
      "image/png": "[encoded data removed]",
      "text/plain": [
       "<Figure size 432x288 with 1 Axes>"
      ]
     },
     "metadata": {
      "needs_background": "light"
     },
     "output_type": "display_data"
    }
   ],
   "source": [
    "plt.plot(x,y)\n",
    "plt.axvline(x = valorcritico, color='r',label='Valor critico')\n",
    "plt.axvline(x = Chi2, color='k', label='Valor observado')"
   ]
  },
  {
   "cell_type": "code",
   "execution_count": 103,
   "id": "22c0e816",
   "metadata": {},
   "outputs": [
    {
     "name": "stdout",
     "output_type": "stream",
     "text": [
      "0.9330550769215176\n"
     ]
    }
   ],
   "source": [
    "p_value = 1- chi2.cdf( Chi2, df=df )\n",
    "print(p_value)"
   ]
  },
  {
   "cell_type": "code",
   "execution_count": 105,
   "id": "279c9ccd",
   "metadata": {},
   "outputs": [],
   "source": [
    "df = pd.read_csv('../Data/Sesion7/Binomial.csv')"
   ]
  },
  {
   "cell_type": "code",
   "execution_count": 106,
   "id": "b1a40696",
   "metadata": {},
   "outputs": [
    {
     "data": {
      "text/html": [
       "<div>\n",
       "<style scoped>\n",
       "    .dataframe tbody tr th:only-of-type {\n",
       "        vertical-align: middle;\n",
       "    }\n",
       "\n",
       "    .dataframe tbody tr th {\n",
       "        vertical-align: top;\n",
       "    }\n",
       "\n",
       "    .dataframe thead th {\n",
       "        text-align: right;\n",
       "    }\n",
       "</style>\n",
       "<table border=\"1\" class=\"dataframe\">\n",
       "  <thead>\n",
       "    <tr style=\"text-align: right;\">\n",
       "      <th></th>\n",
       "      <th>NCaras</th>\n",
       "      <th>ObsFreq</th>\n",
       "    </tr>\n",
       "  </thead>\n",
       "  <tbody>\n",
       "    <tr>\n",
       "      <th>0</th>\n",
       "      <td>0</td>\n",
       "      <td>38</td>\n",
       "    </tr>\n",
       "    <tr>\n",
       "      <th>1</th>\n",
       "      <td>1</td>\n",
       "      <td>143</td>\n",
       "    </tr>\n",
       "    <tr>\n",
       "      <th>2</th>\n",
       "      <td>2</td>\n",
       "      <td>343</td>\n",
       "    </tr>\n",
       "    <tr>\n",
       "      <th>3</th>\n",
       "      <td>3</td>\n",
       "      <td>285</td>\n",
       "    </tr>\n",
       "    <tr>\n",
       "      <th>4</th>\n",
       "      <td>4</td>\n",
       "      <td>166</td>\n",
       "    </tr>\n",
       "    <tr>\n",
       "      <th>5</th>\n",
       "      <td>5</td>\n",
       "      <td>25</td>\n",
       "    </tr>\n",
       "  </tbody>\n",
       "</table>\n",
       "</div>"
      ],
      "text/plain": [
       "   NCaras  ObsFreq\n",
       "0       0       38\n",
       "1       1      143\n",
       "2       2      343\n",
       "3       3      285\n",
       "4       4      166\n",
       "5       5       25"
      ]
     },
     "execution_count": 106,
     "metadata": {},
     "output_type": "execute_result"
    }
   ],
   "source": [
    "df"
   ]
  },
  {
   "cell_type": "code",
   "execution_count": 107,
   "id": "a625e36d",
   "metadata": {},
   "outputs": [],
   "source": [
    "NCaras = df.NCaras\n",
    "ObsFreq = df.ObsFreq"
   ]
  },
  {
   "cell_type": "code",
   "execution_count": 110,
   "id": "caa62951",
   "metadata": {},
   "outputs": [
    {
     "name": "stdout",
     "output_type": "stream",
     "text": [
      "1000\n"
     ]
    }
   ],
   "source": [
    "N = np.sum(ObsFreq)\n",
    "print(N)"
   ]
  },
  {
   "cell_type": "code",
   "execution_count": 113,
   "id": "670f84a9",
   "metadata": {},
   "outputs": [
    {
     "data": {
      "text/plain": [
       "0.4946"
      ]
     },
     "execution_count": 113,
     "metadata": {},
     "output_type": "execute_result"
    }
   ],
   "source": [
    "p = np.sum( NCaras*ObsFreq )/(N*5) #Es el promedio por moneda\n",
    "p"
   ]
  },
  {
   "cell_type": "markdown",
   "id": "eb32aae8",
   "metadata": {},
   "source": [
    "$$ \\chi_{0.05, k-t-1}^{2} $$\n",
    "\n",
    "k es el número de datos menos 1\n",
    "t es el número de parámetros que se estimaron "
   ]
  },
  {
   "cell_type": "code",
   "execution_count": 114,
   "id": "b9eed255",
   "metadata": {},
   "outputs": [
    {
     "data": {
      "text/plain": [
       "array([0.03297435, 0.16134855, 0.31580132, 0.30905289, 0.15122434,\n",
       "       0.02959856])"
      ]
     },
     "execution_count": 114,
     "metadata": {},
     "output_type": "execute_result"
    }
   ],
   "source": [
    "# Suponemos que H0 es verdades, calculamos la frecuencia esperada\n",
    "P = binom.pmf( NCaras, 5, p )\n",
    "P"
   ]
  },
  {
   "cell_type": "code",
   "execution_count": 115,
   "id": "a735c413",
   "metadata": {},
   "outputs": [
    {
     "data": {
      "text/plain": [
       "array([ 32.97434579, 161.34854994, 315.80131698, 309.05289153,\n",
       "       151.22433731,  29.59855846])"
      ]
     },
     "execution_count": 115,
     "metadata": {},
     "output_type": "execute_result"
    }
   ],
   "source": [
    "ExpFreq = P*N\n",
    "ExpFreq"
   ]
  },
  {
   "cell_type": "code",
   "execution_count": 126,
   "id": "d6e6fab4",
   "metadata": {},
   "outputs": [
    {
     "data": {
      "text/plain": [
       "9.225191880421796"
      ]
     },
     "execution_count": 126,
     "metadata": {},
     "output_type": "execute_result"
    }
   ],
   "source": [
    "Chi2 = GetChi2(ObsFreq,ExpFreq)\n",
    "Chi2"
   ]
  },
  {
   "cell_type": "code",
   "execution_count": 127,
   "id": "f1b781c5",
   "metadata": {},
   "outputs": [
    {
     "data": {
      "text/plain": [
       "9.487729036781154"
      ]
     },
     "execution_count": 127,
     "metadata": {},
     "output_type": "execute_result"
    }
   ],
   "source": [
    "chi2_critico = chi2.ppf(0.95,df=4)\n",
    "chi2_critico"
   ]
  },
  {
   "cell_type": "code",
   "execution_count": 128,
   "id": "35d3cc98",
   "metadata": {},
   "outputs": [
    {
     "data": {
      "text/plain": [
       "<matplotlib.lines.Line2D at 0x7f75dd9222b0>"
      ]
     },
     "execution_count": 128,
     "metadata": {},
     "output_type": "execute_result"
    },
    {
     "data": {
      "image/png": "[encoded data removed]",
      "text/plain": [
       "<Figure size 432x288 with 1 Axes>"
      ]
     },
     "metadata": {
      "needs_background": "light"
     },
     "output_type": "display_data"
    }
   ],
   "source": [
    "plt.plot(x,y)\n",
    "plt.axvline(x = chi2_critico, color='r',label='Valor critico')\n",
    "plt.axvline(x = Chi2, color='k', label='Valor observado')"
   ]
  },
  {
   "cell_type": "code",
   "execution_count": null,
   "id": "56b51170",
   "metadata": {},
   "outputs": [],
   "source": []
  },
  {
   "cell_type": "code",
   "execution_count": null,
   "id": "5d8f9519",
   "metadata": {},
   "outputs": [],
   "source": []
  },
  {
   "cell_type": "code",
   "execution_count": null,
   "id": "4071e694",
   "metadata": {},
   "outputs": [],
   "source": []
  },
  {
   "cell_type": "code",
   "execution_count": 123,
   "id": "93fb6470",
   "metadata": {},
   "outputs": [],
   "source": [
    "bins = np.arange(0,7,1)\n",
    "H1,bines = np.histogram(ObsFreq,bins=bins)\n",
    "H2,bines = np.histogram(ExpFreq,bins=bins)"
   ]
  },
  {
   "cell_type": "code",
   "execution_count": 125,
   "id": "91031614",
   "metadata": {},
   "outputs": [
    {
     "data": {
      "text/plain": [
       "<BarContainer object of 6 artists>"
      ]
     },
     "execution_count": 125,
     "metadata": {},
     "output_type": "execute_result"
    },
    {
     "data": {
      "image/png": "[encoded data removed]",
      "text/plain": [
       "<Figure size 432x288 with 1 Axes>"
      ]
     },
     "metadata": {
      "needs_background": "light"
     },
     "output_type": "display_data"
    }
   ],
   "source": [
    "plt.bar(bines[:-1],ObsFreq)\n",
    "plt.bar(bines[:-1],ExpFreq,alpha=0.3)"
   ]
  },
  {
   "cell_type": "code",
   "execution_count": null,
   "id": "1b367b99",
   "metadata": {},
   "outputs": [],
   "source": []
  }
 ],
 "metadata": {
  "kernelspec": {
   "display_name": "Python 3",
   "language": "python",
   "name": "python3"
  },
  "language_info": {
   "codemirror_mode": {
    "name": "ipython",
    "version": 3
   },
   "file_extension": ".py",
   "mimetype": "text/x-python",
   "name": "python",
   "nbconvert_exporter": "python",
   "pygments_lexer": "ipython3",
   "version": "3.8.2"
  }
 },
 "nbformat": 4,
 "nbformat_minor": 5
}
