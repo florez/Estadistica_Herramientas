{
 "cells": [
  {
   "cell_type": "code",
   "execution_count": 2,
   "id": "9d677b52",
   "metadata": {},
   "outputs": [],
   "source": [
    "import numpy as np\n",
    "import matplotlib.pyplot as plt\n",
    "from scipy import integrate\n",
    "from scipy.stats import expon\n",
    "from scipy.stats import norm"
   ]
  },
  {
   "cell_type": "code",
   "execution_count": 5,
   "id": "bcb94a22",
   "metadata": {},
   "outputs": [],
   "source": [
    "x = np.linspace(0,20,100)"
   ]
  },
  {
   "cell_type": "code",
   "execution_count": 6,
   "id": "df00c505",
   "metadata": {},
   "outputs": [],
   "source": [
    "y = expon.pdf( x, scale=3 )"
   ]
  },
  {
   "cell_type": "code",
   "execution_count": 8,
   "id": "ffd3cd9e",
   "metadata": {},
   "outputs": [],
   "source": [
    "M = expon.rvs( size=1000, scale=3 )"
   ]
  },
  {
   "cell_type": "code",
   "execution_count": 14,
   "id": "430717c3",
   "metadata": {},
   "outputs": [
    {
     "data": {
      "text/plain": [
       "<matplotlib.legend.Legend at 0x7fbe5bdc22e0>"
      ]
     },
     "execution_count": 14,
     "metadata": {},
     "output_type": "execute_result"
    },
    {
     "data": {
      "image/png": "[encoded data removed]",
      "text/plain": [
       "<Figure size 432x288 with 1 Axes>"
      ]
     },
     "metadata": {
      "needs_background": "light"
     },
     "output_type": "display_data"
    }
   ],
   "source": [
    "plt.plot(x,y,label='pdf')\n",
    "plt.hist(M, density=True,bins=20,label='Data')\n",
    "plt.legend(loc='upper right', bbox_to_anchor=(0.5,0.8))"
   ]
  },
  {
   "cell_type": "code",
   "execution_count": 15,
   "id": "9923304f",
   "metadata": {},
   "outputs": [
    {
     "data": {
      "text/plain": [
       "3.022831502165553"
      ]
     },
     "execution_count": 15,
     "metadata": {},
     "output_type": "execute_result"
    }
   ],
   "source": [
    "np.mean(M)"
   ]
  },
  {
   "cell_type": "code",
   "execution_count": 16,
   "id": "f3f57bde",
   "metadata": {},
   "outputs": [
    {
     "data": {
      "text/plain": [
       "3.084449283327516"
      ]
     },
     "execution_count": 16,
     "metadata": {},
     "output_type": "execute_result"
    }
   ],
   "source": [
    "np.std(M)"
   ]
  },
  {
   "cell_type": "markdown",
   "id": "722764a5",
   "metadata": {},
   "source": [
    "# Gaussiana"
   ]
  },
  {
   "cell_type": "code",
   "execution_count": 29,
   "id": "5235d51a",
   "metadata": {},
   "outputs": [],
   "source": [
    "x = np.linspace(-5,5,100)\n",
    "y = norm.pdf( x, loc=0, scale=1 )"
   ]
  },
  {
   "cell_type": "code",
   "execution_count": 79,
   "id": "c131f4e0",
   "metadata": {},
   "outputs": [],
   "source": [
    "M = norm.rvs( size=100000, loc=0, scale=1 )"
   ]
  },
  {
   "cell_type": "code",
   "execution_count": 80,
   "id": "970aa2b9",
   "metadata": {},
   "outputs": [
    {
     "name": "stdout",
     "output_type": "stream",
     "text": [
      "-1.6448536269514729\n",
      "1.6448536269514722\n"
     ]
    }
   ],
   "source": [
    "sigma_inferior = norm.ppf(0.05)\n",
    "print(sigma_inferior)\n",
    "sigma_superior = norm.ppf(0.95)\n",
    "print(sigma_superior)"
   ]
  },
  {
   "cell_type": "code",
   "execution_count": 81,
   "id": "0d5a45fe",
   "metadata": {},
   "outputs": [
    {
     "data": {
      "text/plain": [
       "<matplotlib.legend.Legend at 0x7fbe5b120520>"
      ]
     },
     "execution_count": 81,
     "metadata": {},
     "output_type": "execute_result"
    },
    {
     "data": {
      "image/png": "[encoded data removed]",
      "text/plain": [
       "<Figure size 432x288 with 1 Axes>"
      ]
     },
     "metadata": {
      "needs_background": "light"
     },
     "output_type": "display_data"
    }
   ],
   "source": [
    "plt.plot(x,y,color='r',label='pdf')\n",
    "plt.hist(M, density=True,bins=20,label='Data')\n",
    "plt.axvline(x=sigma_inferior,color='k')\n",
    "plt.axvline(x=sigma_superior,color='k')\n",
    "plt.legend(loc='upper right', bbox_to_anchor=(0.2,0.9))"
   ]
  },
  {
   "cell_type": "code",
   "execution_count": 49,
   "id": "2f5e45cf",
   "metadata": {},
   "outputs": [
    {
     "data": {
      "text/plain": [
       "0.017442463245704337"
      ]
     },
     "execution_count": 49,
     "metadata": {},
     "output_type": "execute_result"
    }
   ],
   "source": [
    "np.mean(M)"
   ]
  },
  {
   "cell_type": "markdown",
   "id": "c2a8f398",
   "metadata": {},
   "source": [
    "$$  \\hat{\\mu} = 0.017 \\pm 1.6448  $$ a un nivel de confianza del $90\\%$"
   ]
  },
  {
   "cell_type": "code",
   "execution_count": 41,
   "id": "78e3a5b3",
   "metadata": {},
   "outputs": [
    {
     "data": {
      "text/plain": [
       "0.03593031911292577"
      ]
     },
     "execution_count": 41,
     "metadata": {},
     "output_type": "execute_result"
    }
   ],
   "source": [
    "1 - norm.cdf(1.80)"
   ]
  },
  {
   "cell_type": "code",
   "execution_count": 88,
   "id": "8691d2f1",
   "metadata": {},
   "outputs": [],
   "source": [
    "sample = np.array([0.974,0.950,0.932,1.104,1.038,0.920,0.935,0.907,0.810,0.915])"
   ]
  },
  {
   "cell_type": "code",
   "execution_count": 89,
   "id": "707399f8",
   "metadata": {},
   "outputs": [],
   "source": [
    "n = len(sample)"
   ]
  },
  {
   "cell_type": "code",
   "execution_count": 90,
   "id": "038c0b37",
   "metadata": {},
   "outputs": [
    {
     "name": "stdout",
     "output_type": "stream",
     "text": [
      "0.9484999999999999\n"
     ]
    }
   ],
   "source": [
    "media = np.mean(sample)\n",
    "print(media)"
   ]
  },
  {
   "cell_type": "code",
   "execution_count": 92,
   "id": "8f48b29a",
   "metadata": {},
   "outputs": [
    {
     "name": "stdout",
     "output_type": "stream",
     "text": [
      "0.3872983346207417\n"
     ]
    }
   ],
   "source": [
    "#sigma = np.std(sample)\n",
    "sigma = np.sqrt(0.15)\n",
    "print(sigma)"
   ]
  },
  {
   "cell_type": "code",
   "execution_count": 93,
   "id": "7cee7e70",
   "metadata": {},
   "outputs": [
    {
     "name": "stdout",
     "output_type": "stream",
     "text": [
      "-1.9599639845400545 1.959963984540054\n"
     ]
    }
   ],
   "source": [
    "inferior = norm.ppf(0.025)\n",
    "superior = norm.ppf(0.975)\n",
    "print(inferior,superior)"
   ]
  },
  {
   "cell_type": "code",
   "execution_count": 94,
   "id": "dd9a73e0",
   "metadata": {},
   "outputs": [
    {
     "data": {
      "text/plain": [
       "0.025000000000000022"
      ]
     },
     "execution_count": 94,
     "metadata": {},
     "output_type": "execute_result"
    }
   ],
   "source": [
    "1-0.975"
   ]
  },
  {
   "cell_type": "code",
   "execution_count": 95,
   "id": "22dc5c63",
   "metadata": {},
   "outputs": [
    {
     "data": {
      "text/plain": [
       "<matplotlib.legend.Legend at 0x7fbe5afcd940>"
      ]
     },
     "execution_count": 95,
     "metadata": {},
     "output_type": "execute_result"
    },
    {
     "data": {
      "image/png": "[encoded data removed]",
      "text/plain": [
       "<Figure size 432x288 with 1 Axes>"
      ]
     },
     "metadata": {
      "needs_background": "light"
     },
     "output_type": "display_data"
    }
   ],
   "source": [
    "plt.plot(x,y,color='r',label='pdf')\n",
    "plt.hist(M, density=True,bins=20,label='Data')\n",
    "plt.axvline(x=inferior,color='k')\n",
    "plt.axvline(x=superior,color='k')\n",
    "plt.legend(loc='upper right', bbox_to_anchor=(0.2,0.9))"
   ]
  },
  {
   "cell_type": "code",
   "execution_count": 96,
   "id": "66a686b4",
   "metadata": {},
   "outputs": [],
   "source": [
    "IC = [ media + inferior*sigma/np.sqrt(n), media + superior*sigma/np.sqrt(n) ]"
   ]
  },
  {
   "cell_type": "code",
   "execution_count": 97,
   "id": "ed775a35",
   "metadata": {},
   "outputs": [
    {
     "data": {
      "text/plain": [
       "[0.7084544161822344, 1.1885455838177654]"
      ]
     },
     "execution_count": 97,
     "metadata": {},
     "output_type": "execute_result"
    }
   ],
   "source": [
    "IC"
   ]
  },
  {
   "cell_type": "code",
   "execution_count": null,
   "id": "319e922b",
   "metadata": {},
   "outputs": [],
   "source": []
  },
  {
   "cell_type": "code",
   "execution_count": null,
   "id": "272f02e0",
   "metadata": {},
   "outputs": [],
   "source": []
  }
 ],
 "metadata": {
  "kernelspec": {
   "display_name": "Python 3",
   "language": "python",
   "name": "python3"
  },
  "language_info": {
   "codemirror_mode": {
    "name": "ipython",
    "version": 3
   },
   "file_extension": ".py",
   "mimetype": "text/x-python",
   "name": "python",
   "nbconvert_exporter": "python",
   "pygments_lexer": "ipython3",
   "version": "3.8.2"
  }
 },
 "nbformat": 4,
 "nbformat_minor": 5
}
